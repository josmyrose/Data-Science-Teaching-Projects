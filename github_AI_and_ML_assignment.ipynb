{
  "cells": [
    {
      "cell_type": "markdown",
      "metadata": {
        "id": "view-in-github",
        "colab_type": "text"
      },
      "source": [
        "<a href=\"https://colab.research.google.com/github/josmyrose/Data-Science-Teaching-Projects/blob/main/github_AI_and_ML_assignment.ipynb\" target=\"_parent\"><img src=\"https://colab.research.google.com/assets/colab-badge.svg\" alt=\"Open In Colab\"/></a>"
      ]
    },
    {
      "cell_type": "markdown",
      "source": [
        "## 🎯 Learning Objectives\n",
        "\n",
        "By completing this project, learners will be able to:\n",
        "\n",
        "1. **Understand the concept of customer churn** and explain its business significance in the telecommunications industry.  \n",
        "   - Recognize how predictive analytics supports customer retention and strategic decision-making.\n",
        "\n",
        "2. **Build an end-to-end supervised machine learning pipeline** using Python and Scikit-learn.  \n",
        "   - Integrate all stages of the workflow, including data preprocessing, feature engineering, model training, and evaluation.\n",
        "\n",
        "3. **Perform effective data preprocessing and feature engineering.**  \n",
        "   - Handle missing data, encode categorical variables, and scale numerical features for optimal model performance.\n",
        "\n",
        "4. **Conduct exploratory data analysis (EDA)** to uncover meaningful patterns and relationships.  \n",
        "   - Use visualizations to explore the impact of factors like tenure, contract type, and payment method on churn.\n",
        "\n",
        "5. **Implement and compare multiple classification algorithms.**  \n",
        "   - Train models such as Logistic Regression, Decision Trees, Random Forests, and Gradient Boosting to predict churn outcomes.\n",
        "\n",
        "6. **Evaluate and interpret model performance** using appropriate metrics.  \n",
        "   - Apply accuracy, precision, recall, F1-score, ROC curve, and AUC to assess predictive quality.\n",
        "\n",
        "7. **Optimize model performance** through hyperparameter tuning and cross-validation.  \n",
        "   - Utilize `GridSearchCV` or `RandomizedSearchCV` to improve accuracy and generalization.\n",
        "\n",
        "8. **Interpret model results** to identify key drivers of customer churn.  \n",
        "   - Use feature importance or explainable AI tools to determine the most influential factors affecting churn.\n",
        "\n",
        "9. **Apply best practices in coding and documentation.**  \n",
        "   - Write clean, well-commented notebooks with clear explanations and visual summaries.\n",
        "\n",
        "10. **Communicate actionable insights** derived from data analysis and modeling.  \n",
        "    - Present technical findings in a business-oriented manner to support decision-making and retention strategies.\n",
        "\n",
        "---\n",
        "\n",
        "## 📚 Skills & Tools Covered\n",
        "\n",
        "| Category | Tools / Concepts |\n",
        "|-----------|------------------|\n",
        "| **Programming Language** | Python |\n",
        "| **Libraries** | Pandas, NumPy, Matplotlib, Seaborn, Scikit-learn |\n",
        "| **Machine Learning Techniques** | Supervised Learning, Classification, Model Evaluation, Feature Engineering |\n",
        "| **Statistical Concepts** | Data preprocessing, scaling, encoding, cross-validation |\n",
        "| **Visualization Tools** | Matplotlib, Seaborn |\n",
        "| **Advanced Topics** | Hyperparameter tuning, Explainable AI, Business analytics |\n",
        "| **Soft Skills** | Problem-solving, analytical thinking, technical communication |\n",
        "\n",
        "---\n",
        "\n",
        "💡 *Tip:* You can run this notebook on **Google Colab** for a fully interactive learning experience. Each section of the notebook is organized to follow the standard data science workflow:\n",
        "1. Data Loading  \n",
        "2. Data Exploration  \n",
        "3. Data Preprocessing  \n",
        "4. Model Building  \n",
        "5. Model Evaluation  \n",
        "6. Interpretation and Insights"
      ],
      "metadata": {
        "id": "iswcqM5R8sGO"
      }
    },
    {
      "cell_type": "markdown",
      "metadata": {
        "id": "Y6QgodzRyozH"
      },
      "source": [
        "#1.Business probelm statement understanding\n",
        "\n",
        "1.1 Build an end-to-end supervised machine\n",
        "learning pipeline to predict whether a customer will change the telecommunication provider or not in the US"
      ]
    },
    {
      "cell_type": "markdown",
      "source": [
        "Customer churn is one of the biggest problems the telecoms industry is now facing, especially with relation to consumers of voice call plans. Total call time, or the amount of time a client spends on voice calls in a particular period, might be a significant contributor to customer churn in this situation.\n",
        "A telecommunications firm in the United States named  **Comcast Corporation** contains client information such as voice call plans, international voice call plans, how many minutes the customer called during the day, evening, and night, among other things.In order to forecast whether a customer will stick with Comcast Corporation's telecommunication services or not, the American telecoms corporation Comcast Corporation approached a client company named \"ABC\"**.So,the company **ABC** appointed me as data analyst.\n",
        "The company wants to predict  the customer continue with the compnay or not.So it is a classification problem especially binary classification.\n",
        "\n"
      ],
      "metadata": {
        "id": "k9sv95KKajFq"
      }
    },
    {
      "cell_type": "markdown",
      "source": [
        "Dataset is Telecommunication customer churn data"
      ],
      "metadata": {
        "id": "VeS0pA0dsTHJ"
      }
    },
    {
      "cell_type": "markdown",
      "source": [
        "\n",
        "# **Dataset and its attributes explanation**\n",
        "---\n",
        "The following are the details of customers usage plan and other details provided by the comcast company to client ABC company.\n",
        "\n",
        "\n",
        "*   state- It is two letter state code who reside on USA.\n",
        "\n",
        "*   residence account_length- The number of months that a consumer has used a specific telecommunications provider's service.\n",
        "\n",
        "*   area_code-Three digit area code\n",
        "\n",
        "\n",
        "*   international_plan-If the customer has the international plan,its value indicates that 1 ,otherwise it is 0\n",
        "\n",
        "*   voice_mail_plan- The customer has voice mail plan.If the customer has the voice mail plan,its value indicates that 1 ,otherwise it is 0\n",
        "\n",
        "*   number_vmail_messages - How many voicemails there are\n",
        "*   total_day_minutes- Total daily call minutes.\n",
        "\n",
        "\n",
        "*  total_day_calls- Total number of calls per day.\n",
        "\n",
        "*  total_day_charge- Total daily call cost.\n",
        "*  total_eve_minutes-Minutes total for evening calls.\n",
        "\n",
        "*   total_eve_calls-Total number of evening calls.\n",
        "\n",
        "*  total_eve_charge-Total amount of calls in the evening.\n",
        "\n",
        "\n",
        "*   total_night_minutes-Overall duration of late-night calls.\n",
        "\n",
        "*   total_night_charge-The whole cost of late-night calls.\n",
        "\n",
        "*   total_intl_calls-Total amount of calls made internationally.\n",
        "\n",
        "\n",
        "*   total_intl_charge-Cost of all international calls\n",
        "\n",
        "*   number_customer_service_calls- Number of customer service contacts\n",
        "\n",
        "*  churn- Customer churn (If the customer is continue with compnay its value is Yes ,otherwise it isNo)\n",
        "\n",
        "\n",
        "\n"
      ],
      "metadata": {
        "id": "WoADH_3GsjFH"
      }
    },
    {
      "cell_type": "markdown",
      "source": [
        "In this dataset,total  columns are 20.Out of 20 columns,column churn is target variable.Do some data exploration,select features from the remaining 19 columns(features).Here create a classification model."
      ],
      "metadata": {
        "id": "GzBb6IDexenP"
      }
    },
    {
      "cell_type": "markdown",
      "metadata": {
        "id": "-ndC-jcjpmtZ"
      },
      "source": [
        "The following code explains about the dataset,preprocessing of dataset and model creation and evaluation of the model."
      ]
    },
    {
      "cell_type": "markdown",
      "metadata": {
        "id": "ssucCGFEuVwi"
      },
      "source": [
        "Import neccessary libraries"
      ]
    },
    {
      "cell_type": "code",
      "execution_count": null,
      "metadata": {
        "id": "sTU3wQlJqmyU"
      },
      "outputs": [],
      "source": [
        "import pandas as pd\n",
        "import numpy as np\n",
        "from sklearn.model_selection import train_test_split\n",
        "from sklearn.preprocessing import LabelEncoder# encoding categorical variables\n",
        "from sklearn.preprocessing import StandardScaler# normalizing values in the dataset.\n",
        "from imblearn.over_sampling import SMOTE #for balancing the dataset\n",
        "from sklearn.tree import DecisionTreeClassifier # to use decision tree\n",
        "from sklearn.model_selection import GridSearchCV #hyperparameter turning\n",
        "from sklearn.svm import SVC\n",
        "from sklearn.metrics import confusion_matrix,precision_score,recall_score,f1_score\n",
        "import warnings\n",
        "warnings.filterwarnings(\"ignore\")\n",
        "from sklearn import metrics\n",
        "#import matplot.pyplot as pl\n"
      ]
    },
    {
      "cell_type": "markdown",
      "source": [
        "Read the dataset into python enviornment from google drive."
      ],
      "metadata": {
        "id": "S6S1mXcJzAE6"
      }
    },
    {
      "cell_type": "code",
      "execution_count": null,
      "metadata": {
        "id": "INys7pWOurGM"
      },
      "outputs": [],
      "source": [
        "df1=pd.read_csv('/content/drive/MyDrive/dataset/customerchrum.csv')#The resulting DataFrame object is assigned to a variable named \"df\""
      ]
    },
    {
      "cell_type": "markdown",
      "metadata": {
        "id": "cuPfXa2u_oj-"
      },
      "source": [
        "The dataset is too large.So take the sample of dataset to run the model on google colab CPU."
      ]
    },
    {
      "cell_type": "code",
      "execution_count": null,
      "metadata": {
        "id": "jl9vYAH0C532"
      },
      "outputs": [],
      "source": [
        "df=df1.sample(500)"
      ]
    },
    {
      "cell_type": "markdown",
      "metadata": {
        "id": "oQ6FZ7I8YDv9"
      },
      "source": [
        "# **Examining the dataset**\n",
        "\n",
        "---\n",
        "\n"
      ]
    },
    {
      "cell_type": "markdown",
      "source": [
        "Display the first five rows of dataset to get an idea about the data containing on the dataset."
      ],
      "metadata": {
        "id": "6EUWK2byzNfo"
      }
    },
    {
      "cell_type": "code",
      "execution_count": null,
      "metadata": {
        "colab": {
          "base_uri": "https://localhost:8080/",
          "height": 270
        },
        "id": "3T4dh7yz0xen",
        "outputId": "65da569b-5871-4d67-d631-6b51da7cce00"
      },
      "outputs": [
        {
          "output_type": "execute_result",
          "data": {
            "text/plain": [
              "     state  account_length      area_code international_plan voice_mail_plan  \\\n",
              "2080    GA             131  area_code_408                 no              no   \n",
              "1725    WA             132  area_code_415                 no              no   \n",
              "2167    VT              72  area_code_415                 no              no   \n",
              "567     NE             189  area_code_415                 no             yes   \n",
              "791     NJ              46  area_code_408                 no              no   \n",
              "\n",
              "      number_vmail_messages  total_day_minutes  total_day_calls  \\\n",
              "2080                      0              197.0               79   \n",
              "1725                      0              240.1              115   \n",
              "2167                      0              139.9              117   \n",
              "567                      38              256.7               98   \n",
              "791                       0              257.4               67   \n",
              "\n",
              "      total_day_charge  total_eve_minutes  total_eve_calls  total_eve_charge  \\\n",
              "2080             33.49              201.0              114             17.09   \n",
              "1725             40.82              180.4               91             15.33   \n",
              "2167             23.78              223.6               96             19.01   \n",
              "567              43.64              150.5              120             12.79   \n",
              "791              43.76              261.1               91             22.19   \n",
              "\n",
              "      total_night_minutes  total_night_calls  total_night_charge  \\\n",
              "2080                151.2                111                6.80   \n",
              "1725                133.4                122                6.00   \n",
              "2167                240.8                 93               10.84   \n",
              "567                 123.0                 87                5.54   \n",
              "791                 204.4                107                9.20   \n",
              "\n",
              "      total_intl_minutes  total_intl_calls  total_intl_charge  \\\n",
              "2080                11.6                 5               3.13   \n",
              "1725                 8.0                 6               2.16   \n",
              "2167                12.7                 4               3.43   \n",
              "567                 11.4                 3               3.08   \n",
              "791                 13.4                 5               3.62   \n",
              "\n",
              "      number_customer_service_calls churn  \n",
              "2080                              1    no  \n",
              "1725                              3    no  \n",
              "2167                              2    no  \n",
              "567                               3    no  \n",
              "791                               2   yes  "
            ],
            "text/html": [
              "\n",
              "  <div id=\"df-aed755d1-a03e-4460-981c-efd20eebc313\">\n",
              "    <div class=\"colab-df-container\">\n",
              "      <div>\n",
              "<style scoped>\n",
              "    .dataframe tbody tr th:only-of-type {\n",
              "        vertical-align: middle;\n",
              "    }\n",
              "\n",
              "    .dataframe tbody tr th {\n",
              "        vertical-align: top;\n",
              "    }\n",
              "\n",
              "    .dataframe thead th {\n",
              "        text-align: right;\n",
              "    }\n",
              "</style>\n",
              "<table border=\"1\" class=\"dataframe\">\n",
              "  <thead>\n",
              "    <tr style=\"text-align: right;\">\n",
              "      <th></th>\n",
              "      <th>state</th>\n",
              "      <th>account_length</th>\n",
              "      <th>area_code</th>\n",
              "      <th>international_plan</th>\n",
              "      <th>voice_mail_plan</th>\n",
              "      <th>number_vmail_messages</th>\n",
              "      <th>total_day_minutes</th>\n",
              "      <th>total_day_calls</th>\n",
              "      <th>total_day_charge</th>\n",
              "      <th>total_eve_minutes</th>\n",
              "      <th>total_eve_calls</th>\n",
              "      <th>total_eve_charge</th>\n",
              "      <th>total_night_minutes</th>\n",
              "      <th>total_night_calls</th>\n",
              "      <th>total_night_charge</th>\n",
              "      <th>total_intl_minutes</th>\n",
              "      <th>total_intl_calls</th>\n",
              "      <th>total_intl_charge</th>\n",
              "      <th>number_customer_service_calls</th>\n",
              "      <th>churn</th>\n",
              "    </tr>\n",
              "  </thead>\n",
              "  <tbody>\n",
              "    <tr>\n",
              "      <th>2080</th>\n",
              "      <td>GA</td>\n",
              "      <td>131</td>\n",
              "      <td>area_code_408</td>\n",
              "      <td>no</td>\n",
              "      <td>no</td>\n",
              "      <td>0</td>\n",
              "      <td>197.0</td>\n",
              "      <td>79</td>\n",
              "      <td>33.49</td>\n",
              "      <td>201.0</td>\n",
              "      <td>114</td>\n",
              "      <td>17.09</td>\n",
              "      <td>151.2</td>\n",
              "      <td>111</td>\n",
              "      <td>6.80</td>\n",
              "      <td>11.6</td>\n",
              "      <td>5</td>\n",
              "      <td>3.13</td>\n",
              "      <td>1</td>\n",
              "      <td>no</td>\n",
              "    </tr>\n",
              "    <tr>\n",
              "      <th>1725</th>\n",
              "      <td>WA</td>\n",
              "      <td>132</td>\n",
              "      <td>area_code_415</td>\n",
              "      <td>no</td>\n",
              "      <td>no</td>\n",
              "      <td>0</td>\n",
              "      <td>240.1</td>\n",
              "      <td>115</td>\n",
              "      <td>40.82</td>\n",
              "      <td>180.4</td>\n",
              "      <td>91</td>\n",
              "      <td>15.33</td>\n",
              "      <td>133.4</td>\n",
              "      <td>122</td>\n",
              "      <td>6.00</td>\n",
              "      <td>8.0</td>\n",
              "      <td>6</td>\n",
              "      <td>2.16</td>\n",
              "      <td>3</td>\n",
              "      <td>no</td>\n",
              "    </tr>\n",
              "    <tr>\n",
              "      <th>2167</th>\n",
              "      <td>VT</td>\n",
              "      <td>72</td>\n",
              "      <td>area_code_415</td>\n",
              "      <td>no</td>\n",
              "      <td>no</td>\n",
              "      <td>0</td>\n",
              "      <td>139.9</td>\n",
              "      <td>117</td>\n",
              "      <td>23.78</td>\n",
              "      <td>223.6</td>\n",
              "      <td>96</td>\n",
              "      <td>19.01</td>\n",
              "      <td>240.8</td>\n",
              "      <td>93</td>\n",
              "      <td>10.84</td>\n",
              "      <td>12.7</td>\n",
              "      <td>4</td>\n",
              "      <td>3.43</td>\n",
              "      <td>2</td>\n",
              "      <td>no</td>\n",
              "    </tr>\n",
              "    <tr>\n",
              "      <th>567</th>\n",
              "      <td>NE</td>\n",
              "      <td>189</td>\n",
              "      <td>area_code_415</td>\n",
              "      <td>no</td>\n",
              "      <td>yes</td>\n",
              "      <td>38</td>\n",
              "      <td>256.7</td>\n",
              "      <td>98</td>\n",
              "      <td>43.64</td>\n",
              "      <td>150.5</td>\n",
              "      <td>120</td>\n",
              "      <td>12.79</td>\n",
              "      <td>123.0</td>\n",
              "      <td>87</td>\n",
              "      <td>5.54</td>\n",
              "      <td>11.4</td>\n",
              "      <td>3</td>\n",
              "      <td>3.08</td>\n",
              "      <td>3</td>\n",
              "      <td>no</td>\n",
              "    </tr>\n",
              "    <tr>\n",
              "      <th>791</th>\n",
              "      <td>NJ</td>\n",
              "      <td>46</td>\n",
              "      <td>area_code_408</td>\n",
              "      <td>no</td>\n",
              "      <td>no</td>\n",
              "      <td>0</td>\n",
              "      <td>257.4</td>\n",
              "      <td>67</td>\n",
              "      <td>43.76</td>\n",
              "      <td>261.1</td>\n",
              "      <td>91</td>\n",
              "      <td>22.19</td>\n",
              "      <td>204.4</td>\n",
              "      <td>107</td>\n",
              "      <td>9.20</td>\n",
              "      <td>13.4</td>\n",
              "      <td>5</td>\n",
              "      <td>3.62</td>\n",
              "      <td>2</td>\n",
              "      <td>yes</td>\n",
              "    </tr>\n",
              "  </tbody>\n",
              "</table>\n",
              "</div>\n",
              "      <button class=\"colab-df-convert\" onclick=\"convertToInteractive('df-aed755d1-a03e-4460-981c-efd20eebc313')\"\n",
              "              title=\"Convert this dataframe to an interactive table.\"\n",
              "              style=\"display:none;\">\n",
              "        \n",
              "  <svg xmlns=\"http://www.w3.org/2000/svg\" height=\"24px\"viewBox=\"0 0 24 24\"\n",
              "       width=\"24px\">\n",
              "    <path d=\"M0 0h24v24H0V0z\" fill=\"none\"/>\n",
              "    <path d=\"M18.56 5.44l.94 2.06.94-2.06 2.06-.94-2.06-.94-.94-2.06-.94 2.06-2.06.94zm-11 1L8.5 8.5l.94-2.06 2.06-.94-2.06-.94L8.5 2.5l-.94 2.06-2.06.94zm10 10l.94 2.06.94-2.06 2.06-.94-2.06-.94-.94-2.06-.94 2.06-2.06.94z\"/><path d=\"M17.41 7.96l-1.37-1.37c-.4-.4-.92-.59-1.43-.59-.52 0-1.04.2-1.43.59L10.3 9.45l-7.72 7.72c-.78.78-.78 2.05 0 2.83L4 21.41c.39.39.9.59 1.41.59.51 0 1.02-.2 1.41-.59l7.78-7.78 2.81-2.81c.8-.78.8-2.07 0-2.86zM5.41 20L4 18.59l7.72-7.72 1.47 1.35L5.41 20z\"/>\n",
              "  </svg>\n",
              "      </button>\n",
              "      \n",
              "  <style>\n",
              "    .colab-df-container {\n",
              "      display:flex;\n",
              "      flex-wrap:wrap;\n",
              "      gap: 12px;\n",
              "    }\n",
              "\n",
              "    .colab-df-convert {\n",
              "      background-color: #E8F0FE;\n",
              "      border: none;\n",
              "      border-radius: 50%;\n",
              "      cursor: pointer;\n",
              "      display: none;\n",
              "      fill: #1967D2;\n",
              "      height: 32px;\n",
              "      padding: 0 0 0 0;\n",
              "      width: 32px;\n",
              "    }\n",
              "\n",
              "    .colab-df-convert:hover {\n",
              "      background-color: #E2EBFA;\n",
              "      box-shadow: 0px 1px 2px rgba(60, 64, 67, 0.3), 0px 1px 3px 1px rgba(60, 64, 67, 0.15);\n",
              "      fill: #174EA6;\n",
              "    }\n",
              "\n",
              "    [theme=dark] .colab-df-convert {\n",
              "      background-color: #3B4455;\n",
              "      fill: #D2E3FC;\n",
              "    }\n",
              "\n",
              "    [theme=dark] .colab-df-convert:hover {\n",
              "      background-color: #434B5C;\n",
              "      box-shadow: 0px 1px 3px 1px rgba(0, 0, 0, 0.15);\n",
              "      filter: drop-shadow(0px 1px 2px rgba(0, 0, 0, 0.3));\n",
              "      fill: #FFFFFF;\n",
              "    }\n",
              "  </style>\n",
              "\n",
              "      <script>\n",
              "        const buttonEl =\n",
              "          document.querySelector('#df-aed755d1-a03e-4460-981c-efd20eebc313 button.colab-df-convert');\n",
              "        buttonEl.style.display =\n",
              "          google.colab.kernel.accessAllowed ? 'block' : 'none';\n",
              "\n",
              "        async function convertToInteractive(key) {\n",
              "          const element = document.querySelector('#df-aed755d1-a03e-4460-981c-efd20eebc313');\n",
              "          const dataTable =\n",
              "            await google.colab.kernel.invokeFunction('convertToInteractive',\n",
              "                                                     [key], {});\n",
              "          if (!dataTable) return;\n",
              "\n",
              "          const docLinkHtml = 'Like what you see? Visit the ' +\n",
              "            '<a target=\"_blank\" href=https://colab.research.google.com/notebooks/data_table.ipynb>data table notebook</a>'\n",
              "            + ' to learn more about interactive tables.';\n",
              "          element.innerHTML = '';\n",
              "          dataTable['output_type'] = 'display_data';\n",
              "          await google.colab.output.renderOutput(dataTable, element);\n",
              "          const docLink = document.createElement('div');\n",
              "          docLink.innerHTML = docLinkHtml;\n",
              "          element.appendChild(docLink);\n",
              "        }\n",
              "      </script>\n",
              "    </div>\n",
              "  </div>\n",
              "  "
            ]
          },
          "metadata": {},
          "execution_count": 41
        }
      ],
      "source": [
        "df.head(5)#displaying first five rows from the dataset."
      ]
    },
    {
      "cell_type": "markdown",
      "metadata": {
        "id": "5jCRnRy0XsKl"
      },
      "source": [
        "From the result,we get an overall idea about the data in the dataset."
      ]
    },
    {
      "cell_type": "markdown",
      "metadata": {
        "id": "jCzKthe7wT50"
      },
      "source": [
        "The following code explains the information about dataset."
      ]
    },
    {
      "cell_type": "code",
      "execution_count": null,
      "metadata": {
        "colab": {
          "base_uri": "https://localhost:8080/"
        },
        "id": "D74e2Gg8xPAW",
        "outputId": "c4046e89-4db5-4971-f353-37070068423c"
      },
      "outputs": [
        {
          "output_type": "stream",
          "name": "stdout",
          "text": [
            "The size of the dataset (500, 20)\n",
            "-------------------------------------------------\n",
            "The Datatype of columns\n",
            " state                             object\n",
            "account_length                     int64\n",
            "area_code                         object\n",
            "international_plan                object\n",
            "voice_mail_plan                   object\n",
            "number_vmail_messages              int64\n",
            "total_day_minutes                float64\n",
            "total_day_calls                    int64\n",
            "total_day_charge                 float64\n",
            "total_eve_minutes                float64\n",
            "total_eve_calls                    int64\n",
            "total_eve_charge                 float64\n",
            "total_night_minutes              float64\n",
            "total_night_calls                  int64\n",
            "total_night_charge               float64\n",
            "total_intl_minutes               float64\n",
            "total_intl_calls                   int64\n",
            "total_intl_charge                float64\n",
            "number_customer_service_calls      int64\n",
            "churn                             object\n",
            "dtype: object of the dataset\n",
            "\n",
            "-------------------------------------------------\n",
            "-------------------------------------------------\n",
            "<class 'pandas.core.frame.DataFrame'>\n",
            "Int64Index: 500 entries, 2080 to 843\n",
            "Data columns (total 20 columns):\n",
            " #   Column                         Non-Null Count  Dtype  \n",
            "---  ------                         --------------  -----  \n",
            " 0   state                          500 non-null    object \n",
            " 1   account_length                 500 non-null    int64  \n",
            " 2   area_code                      500 non-null    object \n",
            " 3   international_plan             500 non-null    object \n",
            " 4   voice_mail_plan                500 non-null    object \n",
            " 5   number_vmail_messages          500 non-null    int64  \n",
            " 6   total_day_minutes              500 non-null    float64\n",
            " 7   total_day_calls                500 non-null    int64  \n",
            " 8   total_day_charge               500 non-null    float64\n",
            " 9   total_eve_minutes              500 non-null    float64\n",
            " 10  total_eve_calls                500 non-null    int64  \n",
            " 11  total_eve_charge               500 non-null    float64\n",
            " 12  total_night_minutes            500 non-null    float64\n",
            " 13  total_night_calls              500 non-null    int64  \n",
            " 14  total_night_charge             500 non-null    float64\n",
            " 15  total_intl_minutes             500 non-null    float64\n",
            " 16  total_intl_calls               500 non-null    int64  \n",
            " 17  total_intl_charge              500 non-null    float64\n",
            " 18  number_customer_service_calls  500 non-null    int64  \n",
            " 19  churn                          500 non-null    object \n",
            "dtypes: float64(8), int64(7), object(5)\n",
            "memory usage: 82.0+ KB\n",
            "Information about dataset\n",
            "\n",
            "-------------------------------------------------\n",
            "\n"
          ]
        }
      ],
      "source": [
        "print(\"The size of the dataset\",df.shape)\n",
        "print(\"-------------------------------------------------\")\n",
        "print(\"The Datatype of columns\\n {} of the dataset\\n\".format(df.dtypes))\n",
        "print(\"-------------------------------------------------\")\n",
        "#print(\"Display first five rows of the dataset\\n\",df.head(5))\n",
        "print(\"-------------------------------------------------\")\n",
        "print(\"Information about dataset\".format(df.info()))\n",
        "print(\"\\n-------------------------------------------------\\n\")\n",
        "#print(\"Product of different categories\\n\",df['product'].value_counts())#for getting the count of each item in the product table.We can understand that the product column has five types of values.\n",
        "#print(\"Number of null values in the dataset\\n\",df.isnull().sum())\n",
        "#df.dropna(axis=0,inplace=True)# Removing rows contains null values(axis=0),if inplcae=True,the removing is done on the current dataset."
      ]
    },
    {
      "cell_type": "markdown",
      "metadata": {
        "id": "gXQsRc7QYQVd"
      },
      "source": [
        "The dataset conatins 500 rows and 20 features.It includes 20 cloumns.In this state,areacode\n"
      ]
    },
    {
      "cell_type": "markdown",
      "metadata": {
        "id": "r5ny-GZDEA7s"
      },
      "source": [
        "Dataset statistics\n",
        "\n",
        "The following result display the minimum and maximum value of each columns in the dataset.The value of each column is distributed in different range.For example,Minimum  of total_day_calls and total_day_charge are\n",
        "35 and 5 respectively and maximum value of total_day_calls and total_day_charge are 147 and 55 respectively.So there is a need of standardization is required in this dataset.It has done on the section of **STANDARDISATION** of this notebook.\n"
      ]
    },
    {
      "cell_type": "code",
      "execution_count": null,
      "metadata": {
        "colab": {
          "base_uri": "https://localhost:8080/",
          "height": 364
        },
        "id": "9namvXhYEEPe",
        "outputId": "df9c9411-8df4-48ad-cd5e-d134926a1c3d"
      },
      "outputs": [
        {
          "output_type": "execute_result",
          "data": {
            "text/plain": [
              "       account_length  number_vmail_messages  total_day_minutes  \\\n",
              "count      500.000000             500.000000         500.000000   \n",
              "mean        99.126000               6.884000         179.580200   \n",
              "std         39.312454              13.117877          53.883729   \n",
              "min          1.000000               0.000000          34.000000   \n",
              "25%         72.000000               0.000000         144.250000   \n",
              "50%         95.000000               0.000000         183.050000   \n",
              "75%        125.000000               0.000000         214.225000   \n",
              "max        225.000000              48.000000         338.400000   \n",
              "\n",
              "       total_day_calls  total_day_charge  total_eve_minutes  total_eve_calls  \\\n",
              "count       500.000000        500.000000         500.000000       500.000000   \n",
              "mean         99.086000         30.529360         198.881200       100.000000   \n",
              "std          20.921616          9.159975          53.124919        18.667859   \n",
              "min          40.000000          5.780000          22.300000        51.000000   \n",
              "25%          85.000000         24.522500         163.575000        87.000000   \n",
              "50%          98.000000         31.120000         201.250000       100.000000   \n",
              "75%         113.000000         36.415000         234.625000       113.000000   \n",
              "max         157.000000         57.530000         349.400000       155.000000   \n",
              "\n",
              "       total_eve_charge  total_night_minutes  total_night_calls  \\\n",
              "count        500.000000           500.000000         500.000000   \n",
              "mean          16.905000           202.712600         100.204000   \n",
              "std            4.515632            49.470586          20.035399   \n",
              "min            1.900000            45.000000          40.000000   \n",
              "25%           13.907500           169.350000          86.000000   \n",
              "50%           17.105000           202.300000          99.000000   \n",
              "75%           19.942500           239.725000         115.000000   \n",
              "max           29.700000           352.500000         165.000000   \n",
              "\n",
              "       total_night_charge  total_intl_minutes  total_intl_calls  \\\n",
              "count          500.000000          500.000000        500.000000   \n",
              "mean             9.122300           10.210200          4.518000   \n",
              "std              2.226169            2.735596          2.496024   \n",
              "min              2.030000            0.000000          0.000000   \n",
              "25%              7.617500            8.500000          3.000000   \n",
              "50%              9.105000           10.200000          4.000000   \n",
              "75%             10.790000           12.100000          6.000000   \n",
              "max             15.860000           19.700000         17.000000   \n",
              "\n",
              "       total_intl_charge  number_customer_service_calls  \n",
              "count         500.000000                     500.000000  \n",
              "mean            2.757160                       1.534000  \n",
              "std             0.738483                       1.237703  \n",
              "min             0.000000                       0.000000  \n",
              "25%             2.300000                       1.000000  \n",
              "50%             2.750000                       1.000000  \n",
              "75%             3.270000                       2.000000  \n",
              "max             5.320000                       6.000000  "
            ],
            "text/html": [
              "\n",
              "  <div id=\"df-a606a871-8ed7-4554-94cd-df28135ead55\">\n",
              "    <div class=\"colab-df-container\">\n",
              "      <div>\n",
              "<style scoped>\n",
              "    .dataframe tbody tr th:only-of-type {\n",
              "        vertical-align: middle;\n",
              "    }\n",
              "\n",
              "    .dataframe tbody tr th {\n",
              "        vertical-align: top;\n",
              "    }\n",
              "\n",
              "    .dataframe thead th {\n",
              "        text-align: right;\n",
              "    }\n",
              "</style>\n",
              "<table border=\"1\" class=\"dataframe\">\n",
              "  <thead>\n",
              "    <tr style=\"text-align: right;\">\n",
              "      <th></th>\n",
              "      <th>account_length</th>\n",
              "      <th>number_vmail_messages</th>\n",
              "      <th>total_day_minutes</th>\n",
              "      <th>total_day_calls</th>\n",
              "      <th>total_day_charge</th>\n",
              "      <th>total_eve_minutes</th>\n",
              "      <th>total_eve_calls</th>\n",
              "      <th>total_eve_charge</th>\n",
              "      <th>total_night_minutes</th>\n",
              "      <th>total_night_calls</th>\n",
              "      <th>total_night_charge</th>\n",
              "      <th>total_intl_minutes</th>\n",
              "      <th>total_intl_calls</th>\n",
              "      <th>total_intl_charge</th>\n",
              "      <th>number_customer_service_calls</th>\n",
              "    </tr>\n",
              "  </thead>\n",
              "  <tbody>\n",
              "    <tr>\n",
              "      <th>count</th>\n",
              "      <td>500.000000</td>\n",
              "      <td>500.000000</td>\n",
              "      <td>500.000000</td>\n",
              "      <td>500.000000</td>\n",
              "      <td>500.000000</td>\n",
              "      <td>500.000000</td>\n",
              "      <td>500.000000</td>\n",
              "      <td>500.000000</td>\n",
              "      <td>500.000000</td>\n",
              "      <td>500.000000</td>\n",
              "      <td>500.000000</td>\n",
              "      <td>500.000000</td>\n",
              "      <td>500.000000</td>\n",
              "      <td>500.000000</td>\n",
              "      <td>500.000000</td>\n",
              "    </tr>\n",
              "    <tr>\n",
              "      <th>mean</th>\n",
              "      <td>99.126000</td>\n",
              "      <td>6.884000</td>\n",
              "      <td>179.580200</td>\n",
              "      <td>99.086000</td>\n",
              "      <td>30.529360</td>\n",
              "      <td>198.881200</td>\n",
              "      <td>100.000000</td>\n",
              "      <td>16.905000</td>\n",
              "      <td>202.712600</td>\n",
              "      <td>100.204000</td>\n",
              "      <td>9.122300</td>\n",
              "      <td>10.210200</td>\n",
              "      <td>4.518000</td>\n",
              "      <td>2.757160</td>\n",
              "      <td>1.534000</td>\n",
              "    </tr>\n",
              "    <tr>\n",
              "      <th>std</th>\n",
              "      <td>39.312454</td>\n",
              "      <td>13.117877</td>\n",
              "      <td>53.883729</td>\n",
              "      <td>20.921616</td>\n",
              "      <td>9.159975</td>\n",
              "      <td>53.124919</td>\n",
              "      <td>18.667859</td>\n",
              "      <td>4.515632</td>\n",
              "      <td>49.470586</td>\n",
              "      <td>20.035399</td>\n",
              "      <td>2.226169</td>\n",
              "      <td>2.735596</td>\n",
              "      <td>2.496024</td>\n",
              "      <td>0.738483</td>\n",
              "      <td>1.237703</td>\n",
              "    </tr>\n",
              "    <tr>\n",
              "      <th>min</th>\n",
              "      <td>1.000000</td>\n",
              "      <td>0.000000</td>\n",
              "      <td>34.000000</td>\n",
              "      <td>40.000000</td>\n",
              "      <td>5.780000</td>\n",
              "      <td>22.300000</td>\n",
              "      <td>51.000000</td>\n",
              "      <td>1.900000</td>\n",
              "      <td>45.000000</td>\n",
              "      <td>40.000000</td>\n",
              "      <td>2.030000</td>\n",
              "      <td>0.000000</td>\n",
              "      <td>0.000000</td>\n",
              "      <td>0.000000</td>\n",
              "      <td>0.000000</td>\n",
              "    </tr>\n",
              "    <tr>\n",
              "      <th>25%</th>\n",
              "      <td>72.000000</td>\n",
              "      <td>0.000000</td>\n",
              "      <td>144.250000</td>\n",
              "      <td>85.000000</td>\n",
              "      <td>24.522500</td>\n",
              "      <td>163.575000</td>\n",
              "      <td>87.000000</td>\n",
              "      <td>13.907500</td>\n",
              "      <td>169.350000</td>\n",
              "      <td>86.000000</td>\n",
              "      <td>7.617500</td>\n",
              "      <td>8.500000</td>\n",
              "      <td>3.000000</td>\n",
              "      <td>2.300000</td>\n",
              "      <td>1.000000</td>\n",
              "    </tr>\n",
              "    <tr>\n",
              "      <th>50%</th>\n",
              "      <td>95.000000</td>\n",
              "      <td>0.000000</td>\n",
              "      <td>183.050000</td>\n",
              "      <td>98.000000</td>\n",
              "      <td>31.120000</td>\n",
              "      <td>201.250000</td>\n",
              "      <td>100.000000</td>\n",
              "      <td>17.105000</td>\n",
              "      <td>202.300000</td>\n",
              "      <td>99.000000</td>\n",
              "      <td>9.105000</td>\n",
              "      <td>10.200000</td>\n",
              "      <td>4.000000</td>\n",
              "      <td>2.750000</td>\n",
              "      <td>1.000000</td>\n",
              "    </tr>\n",
              "    <tr>\n",
              "      <th>75%</th>\n",
              "      <td>125.000000</td>\n",
              "      <td>0.000000</td>\n",
              "      <td>214.225000</td>\n",
              "      <td>113.000000</td>\n",
              "      <td>36.415000</td>\n",
              "      <td>234.625000</td>\n",
              "      <td>113.000000</td>\n",
              "      <td>19.942500</td>\n",
              "      <td>239.725000</td>\n",
              "      <td>115.000000</td>\n",
              "      <td>10.790000</td>\n",
              "      <td>12.100000</td>\n",
              "      <td>6.000000</td>\n",
              "      <td>3.270000</td>\n",
              "      <td>2.000000</td>\n",
              "    </tr>\n",
              "    <tr>\n",
              "      <th>max</th>\n",
              "      <td>225.000000</td>\n",
              "      <td>48.000000</td>\n",
              "      <td>338.400000</td>\n",
              "      <td>157.000000</td>\n",
              "      <td>57.530000</td>\n",
              "      <td>349.400000</td>\n",
              "      <td>155.000000</td>\n",
              "      <td>29.700000</td>\n",
              "      <td>352.500000</td>\n",
              "      <td>165.000000</td>\n",
              "      <td>15.860000</td>\n",
              "      <td>19.700000</td>\n",
              "      <td>17.000000</td>\n",
              "      <td>5.320000</td>\n",
              "      <td>6.000000</td>\n",
              "    </tr>\n",
              "  </tbody>\n",
              "</table>\n",
              "</div>\n",
              "      <button class=\"colab-df-convert\" onclick=\"convertToInteractive('df-a606a871-8ed7-4554-94cd-df28135ead55')\"\n",
              "              title=\"Convert this dataframe to an interactive table.\"\n",
              "              style=\"display:none;\">\n",
              "        \n",
              "  <svg xmlns=\"http://www.w3.org/2000/svg\" height=\"24px\"viewBox=\"0 0 24 24\"\n",
              "       width=\"24px\">\n",
              "    <path d=\"M0 0h24v24H0V0z\" fill=\"none\"/>\n",
              "    <path d=\"M18.56 5.44l.94 2.06.94-2.06 2.06-.94-2.06-.94-.94-2.06-.94 2.06-2.06.94zm-11 1L8.5 8.5l.94-2.06 2.06-.94-2.06-.94L8.5 2.5l-.94 2.06-2.06.94zm10 10l.94 2.06.94-2.06 2.06-.94-2.06-.94-.94-2.06-.94 2.06-2.06.94z\"/><path d=\"M17.41 7.96l-1.37-1.37c-.4-.4-.92-.59-1.43-.59-.52 0-1.04.2-1.43.59L10.3 9.45l-7.72 7.72c-.78.78-.78 2.05 0 2.83L4 21.41c.39.39.9.59 1.41.59.51 0 1.02-.2 1.41-.59l7.78-7.78 2.81-2.81c.8-.78.8-2.07 0-2.86zM5.41 20L4 18.59l7.72-7.72 1.47 1.35L5.41 20z\"/>\n",
              "  </svg>\n",
              "      </button>\n",
              "      \n",
              "  <style>\n",
              "    .colab-df-container {\n",
              "      display:flex;\n",
              "      flex-wrap:wrap;\n",
              "      gap: 12px;\n",
              "    }\n",
              "\n",
              "    .colab-df-convert {\n",
              "      background-color: #E8F0FE;\n",
              "      border: none;\n",
              "      border-radius: 50%;\n",
              "      cursor: pointer;\n",
              "      display: none;\n",
              "      fill: #1967D2;\n",
              "      height: 32px;\n",
              "      padding: 0 0 0 0;\n",
              "      width: 32px;\n",
              "    }\n",
              "\n",
              "    .colab-df-convert:hover {\n",
              "      background-color: #E2EBFA;\n",
              "      box-shadow: 0px 1px 2px rgba(60, 64, 67, 0.3), 0px 1px 3px 1px rgba(60, 64, 67, 0.15);\n",
              "      fill: #174EA6;\n",
              "    }\n",
              "\n",
              "    [theme=dark] .colab-df-convert {\n",
              "      background-color: #3B4455;\n",
              "      fill: #D2E3FC;\n",
              "    }\n",
              "\n",
              "    [theme=dark] .colab-df-convert:hover {\n",
              "      background-color: #434B5C;\n",
              "      box-shadow: 0px 1px 3px 1px rgba(0, 0, 0, 0.15);\n",
              "      filter: drop-shadow(0px 1px 2px rgba(0, 0, 0, 0.3));\n",
              "      fill: #FFFFFF;\n",
              "    }\n",
              "  </style>\n",
              "\n",
              "      <script>\n",
              "        const buttonEl =\n",
              "          document.querySelector('#df-a606a871-8ed7-4554-94cd-df28135ead55 button.colab-df-convert');\n",
              "        buttonEl.style.display =\n",
              "          google.colab.kernel.accessAllowed ? 'block' : 'none';\n",
              "\n",
              "        async function convertToInteractive(key) {\n",
              "          const element = document.querySelector('#df-a606a871-8ed7-4554-94cd-df28135ead55');\n",
              "          const dataTable =\n",
              "            await google.colab.kernel.invokeFunction('convertToInteractive',\n",
              "                                                     [key], {});\n",
              "          if (!dataTable) return;\n",
              "\n",
              "          const docLinkHtml = 'Like what you see? Visit the ' +\n",
              "            '<a target=\"_blank\" href=https://colab.research.google.com/notebooks/data_table.ipynb>data table notebook</a>'\n",
              "            + ' to learn more about interactive tables.';\n",
              "          element.innerHTML = '';\n",
              "          dataTable['output_type'] = 'display_data';\n",
              "          await google.colab.output.renderOutput(dataTable, element);\n",
              "          const docLink = document.createElement('div');\n",
              "          docLink.innerHTML = docLinkHtml;\n",
              "          element.appendChild(docLink);\n",
              "        }\n",
              "      </script>\n",
              "    </div>\n",
              "  </div>\n",
              "  "
            ]
          },
          "metadata": {},
          "execution_count": 43
        }
      ],
      "source": [
        "df.describe()"
      ]
    },
    {
      "cell_type": "markdown",
      "metadata": {
        "id": "q6dsU7B0Hw18"
      },
      "source": [
        "Doing bivariate analysis,state,account_length and area_code in the dataset are not related with churn(target column).So drop the columns.The remaining dataframe has 15 columns.\n",
        "\n",
        "\n",
        "\n"
      ]
    },
    {
      "cell_type": "code",
      "execution_count": null,
      "metadata": {
        "colab": {
          "base_uri": "https://localhost:8080/"
        },
        "id": "uaqs8T2XI8ll",
        "outputId": "91f95ee6-8190-4035-fa8a-ca10d38cd957"
      },
      "outputs": [
        {
          "output_type": "stream",
          "name": "stdout",
          "text": [
            "Updated DataFrame:\n",
            "(500, 15)\n"
          ]
        }
      ],
      "source": [
        "# drop columns 'state' and ',account_length' and 'area_code'\n",
        "df = df.drop(['state', 'account_length','area_code','international_plan','voice_mail_plan'], axis=1)\n",
        "\n",
        "# print the updated DataFrame\n",
        "print(\"Updated DataFrame:\")\n",
        "print(df.shape)"
      ]
    },
    {
      "cell_type": "markdown",
      "metadata": {
        "id": "7MJJJOkp2EeW"
      },
      "source": [
        "# 1.2   **Data Exploration STEPS**"
      ]
    },
    {
      "cell_type": "markdown",
      "metadata": {
        "id": "6CATxaQwbOFU"
      },
      "source": [
        "Analyse whether the dataset is imbalanced."
      ]
    },
    {
      "cell_type": "code",
      "execution_count": null,
      "metadata": {
        "colab": {
          "base_uri": "https://localhost:8080/"
        },
        "id": "F7JA0xwdcn3R",
        "outputId": "dc2ed6f1-fe96-4b2d-bd22-ca4679c78819"
      },
      "outputs": [
        {
          "output_type": "stream",
          "name": "stdout",
          "text": [
            "The percentage of chrun with no values in the  dataset is85.80\n",
            "The percentage of chrun with yes values in the  dataset is14.20\n"
          ]
        }
      ],
      "source": [
        "#To get the count of people who continue with company and leave the company\n",
        "df['churn'].value_counts()\n",
        "\n",
        "\n",
        "# count the number of people who continue with company\n",
        "df_no = df[df['churn'] == 'no']['churn'].count()\n",
        "df_yes = df[df['churn'] == 'yes']['churn'].count()\n",
        "\n",
        "# count the total number of observations\n",
        "total_count = df['churn'].count()\n",
        "\n",
        "# calculate the percentage of churn with no value\n",
        "\n",
        "no_percentage = (df_no / total_count) * 100\n",
        "# calculate the percentage of churn with nes value\n",
        "\n",
        "yes_percentage= (df_yes / total_count) * 100\n",
        "\n",
        "# print the result\n",
        "print('The percentage of chrun with no values in the  dataset is{:.2f}'.format(no_percentage))\n",
        "# print the result\n",
        "print('The percentage of chrun with yes values in the  dataset is{:.2f}'.format(yes_percentage))"
      ]
    },
    {
      "cell_type": "markdown",
      "metadata": {
        "id": "LUzUz9DPg4OT"
      },
      "source": [
        "The percentage of churn with **no** values in the dataset is 85% and The percentage of chrun with **yes** values in the  dataset is 14.7.The dataset contains more values churn with **no** value than churn with **yes** value.So the dataset is imbalanced.If the dataset is imbalnced,the model is also biased.To avoid this problem,dataset should be balanced.The balancing of dataset should do on the section of Balance the dataset using SMOT Algorithm of this notebook."
      ]
    },
    {
      "cell_type": "markdown",
      "metadata": {
        "id": "FXVXVPAiAoHL"
      },
      "source": [
        "Check whether any null value is present in the dataset.There is no null value present in the dataset."
      ]
    },
    {
      "cell_type": "code",
      "execution_count": null,
      "metadata": {
        "colab": {
          "base_uri": "https://localhost:8080/"
        },
        "id": "a2LU1uPQyHfs",
        "outputId": "2dd40751-6c6a-4445-eb56-749a4c3c14da"
      },
      "outputs": [
        {
          "output_type": "stream",
          "name": "stdout",
          "text": [
            "Number of null values in the dataset\n",
            " number_vmail_messages            0\n",
            "total_day_minutes                0\n",
            "total_day_calls                  0\n",
            "total_day_charge                 0\n",
            "total_eve_minutes                0\n",
            "total_eve_calls                  0\n",
            "total_eve_charge                 0\n",
            "total_night_minutes              0\n",
            "total_night_calls                0\n",
            "total_night_charge               0\n",
            "total_intl_minutes               0\n",
            "total_intl_calls                 0\n",
            "total_intl_charge                0\n",
            "number_customer_service_calls    0\n",
            "churn                            0\n",
            "dtype: int64\n"
          ]
        }
      ],
      "source": [
        "print(\"Number of null values in the dataset\\n\",df.isnull().sum())"
      ]
    },
    {
      "cell_type": "markdown",
      "metadata": {
        "id": "PgqtpTZQipqB"
      },
      "source": [
        "**Label Encoding**"
      ]
    },
    {
      "cell_type": "markdown",
      "metadata": {
        "id": "bAE0IRN45ucd"
      },
      "source": [
        "Most of the machine learning algorithms could not handle categorical values.So in this Dataset,the column 'churn' has categorical values such as 'yes' or 'no'.\n",
        "Here use the label encoding.Label encoding assigns a numerical label to each category.If use the onehot encoding,number of columns in the dataset is increased."
      ]
    },
    {
      "cell_type": "code",
      "execution_count": null,
      "metadata": {
        "id": "Ccc5N94b-tWD"
      },
      "outputs": [],
      "source": [
        "# creating instance of labelencoder\n",
        "labelencoder1 = LabelEncoder()\n",
        "# Assigning numerical values and storing in another column\n",
        "df['churn'] = labelencoder1.fit_transform(df['churn'])#churn values changed\n"
      ]
    },
    {
      "cell_type": "markdown",
      "source": [
        "There are 19 features in this dataset.To select most corelated features with target variable chrun,so use the correlation method.For example,feature total_eve_charge is correlated with  churn ,it value is 0.239978\t.Based on this,selected the following features to create model total_day_charge','total_eve_charge','total_night_charge','number_customer_service_calls"
      ],
      "metadata": {
        "id": "TcfIl_105_kl"
      }
    },
    {
      "cell_type": "code",
      "source": [
        "df.corr()"
      ],
      "metadata": {
        "colab": {
          "base_uri": "https://localhost:8080/",
          "height": 583
        },
        "id": "HmsyPYuw48vX",
        "outputId": "f860d513-c235-4628-a46d-d73cae6c28fd"
      },
      "execution_count": null,
      "outputs": [
        {
          "output_type": "execute_result",
          "data": {
            "text/plain": [
              "                               number_vmail_messages  total_day_minutes  \\\n",
              "number_vmail_messages                       1.000000           0.039813   \n",
              "total_day_minutes                           0.039813           1.000000   \n",
              "total_day_calls                            -0.028675          -0.045254   \n",
              "total_day_charge                            0.039809           1.000000   \n",
              "total_eve_minutes                           0.038452           0.013029   \n",
              "total_eve_calls                            -0.000818           0.077886   \n",
              "total_eve_charge                            0.038417           0.012984   \n",
              "total_night_minutes                         0.041954          -0.026780   \n",
              "total_night_calls                           0.028341           0.029684   \n",
              "total_night_charge                          0.041975          -0.026733   \n",
              "total_intl_minutes                         -0.015470          -0.005504   \n",
              "total_intl_calls                           -0.066711          -0.014544   \n",
              "total_intl_charge                          -0.015495          -0.005172   \n",
              "number_customer_service_calls              -0.004694          -0.086147   \n",
              "churn                                      -0.096963           0.166053   \n",
              "\n",
              "                               total_day_calls  total_day_charge  \\\n",
              "number_vmail_messages                -0.028675          0.039809   \n",
              "total_day_minutes                    -0.045254          1.000000   \n",
              "total_day_calls                       1.000000         -0.045249   \n",
              "total_day_charge                     -0.045249          1.000000   \n",
              "total_eve_minutes                     0.019555          0.013033   \n",
              "total_eve_calls                      -0.039674          0.077870   \n",
              "total_eve_charge                      0.019601          0.012987   \n",
              "total_night_minutes                   0.019353         -0.026767   \n",
              "total_night_calls                     0.032927          0.029660   \n",
              "total_night_charge                    0.019300         -0.026720   \n",
              "total_intl_minutes                    0.013914         -0.005520   \n",
              "total_intl_calls                      0.000987         -0.014553   \n",
              "total_intl_charge                     0.014146         -0.005188   \n",
              "number_customer_service_calls         0.026548         -0.086139   \n",
              "churn                                -0.038684          0.166041   \n",
              "\n",
              "                               total_eve_minutes  total_eve_calls  \\\n",
              "number_vmail_messages                   0.038452        -0.000818   \n",
              "total_day_minutes                       0.013029         0.077886   \n",
              "total_day_calls                         0.019555        -0.039674   \n",
              "total_day_charge                        0.013033         0.077870   \n",
              "total_eve_minutes                       1.000000        -0.045727   \n",
              "total_eve_calls                        -0.045727         1.000000   \n",
              "total_eve_charge                        1.000000        -0.045709   \n",
              "total_night_minutes                     0.010361         0.048282   \n",
              "total_night_calls                       0.041815        -0.026608   \n",
              "total_night_charge                      0.010337         0.048343   \n",
              "total_intl_minutes                     -0.044521         0.009477   \n",
              "total_intl_calls                       -0.032636        -0.026235   \n",
              "total_intl_charge                      -0.044331         0.009497   \n",
              "number_customer_service_calls          -0.033065         0.014398   \n",
              "churn                                   0.050380         0.042400   \n",
              "\n",
              "                               total_eve_charge  total_night_minutes  \\\n",
              "number_vmail_messages                  0.038417             0.041954   \n",
              "total_day_minutes                      0.012984            -0.026780   \n",
              "total_day_calls                        0.019601             0.019353   \n",
              "total_day_charge                       0.012987            -0.026767   \n",
              "total_eve_minutes                      1.000000             0.010361   \n",
              "total_eve_calls                       -0.045709             0.048282   \n",
              "total_eve_charge                       1.000000             0.010393   \n",
              "total_night_minutes                    0.010393             1.000000   \n",
              "total_night_calls                      0.041821            -0.055249   \n",
              "total_night_charge                     0.010369             0.999999   \n",
              "total_intl_minutes                    -0.044489            -0.019430   \n",
              "total_intl_calls                      -0.032652            -0.054534   \n",
              "total_intl_charge                     -0.044299            -0.019259   \n",
              "number_customer_service_calls         -0.033076             0.024368   \n",
              "churn                                  0.050381             0.030249   \n",
              "\n",
              "                               total_night_calls  total_night_charge  \\\n",
              "number_vmail_messages                   0.028341            0.041975   \n",
              "total_day_minutes                       0.029684           -0.026733   \n",
              "total_day_calls                         0.032927            0.019300   \n",
              "total_day_charge                        0.029660           -0.026720   \n",
              "total_eve_minutes                       0.041815            0.010337   \n",
              "total_eve_calls                        -0.026608            0.048343   \n",
              "total_eve_charge                        0.041821            0.010369   \n",
              "total_night_minutes                    -0.055249            0.999999   \n",
              "total_night_calls                       1.000000           -0.055289   \n",
              "total_night_charge                     -0.055289            1.000000   \n",
              "total_intl_minutes                     -0.037849           -0.019489   \n",
              "total_intl_calls                       -0.043994           -0.054493   \n",
              "total_intl_charge                      -0.037922           -0.019318   \n",
              "number_customer_service_calls           0.018953            0.024333   \n",
              "churn                                  -0.026476            0.030239   \n",
              "\n",
              "                               total_intl_minutes  total_intl_calls  \\\n",
              "number_vmail_messages                   -0.015470         -0.066711   \n",
              "total_day_minutes                       -0.005504         -0.014544   \n",
              "total_day_calls                          0.013914          0.000987   \n",
              "total_day_charge                        -0.005520         -0.014553   \n",
              "total_eve_minutes                       -0.044521         -0.032636   \n",
              "total_eve_calls                          0.009477         -0.026235   \n",
              "total_eve_charge                        -0.044489         -0.032652   \n",
              "total_night_minutes                     -0.019430         -0.054534   \n",
              "total_night_calls                       -0.037849         -0.043994   \n",
              "total_night_charge                      -0.019489         -0.054493   \n",
              "total_intl_minutes                       1.000000          0.037702   \n",
              "total_intl_calls                         0.037702          1.000000   \n",
              "total_intl_charge                        0.999992          0.037688   \n",
              "number_customer_service_calls           -0.008892         -0.005388   \n",
              "churn                                    0.063478         -0.027064   \n",
              "\n",
              "                               total_intl_charge  \\\n",
              "number_vmail_messages                  -0.015495   \n",
              "total_day_minutes                      -0.005172   \n",
              "total_day_calls                         0.014146   \n",
              "total_day_charge                       -0.005188   \n",
              "total_eve_minutes                      -0.044331   \n",
              "total_eve_calls                         0.009497   \n",
              "total_eve_charge                       -0.044299   \n",
              "total_night_minutes                    -0.019259   \n",
              "total_night_calls                      -0.037922   \n",
              "total_night_charge                     -0.019318   \n",
              "total_intl_minutes                      0.999992   \n",
              "total_intl_calls                        0.037688   \n",
              "total_intl_charge                       1.000000   \n",
              "number_customer_service_calls          -0.009059   \n",
              "churn                                   0.063389   \n",
              "\n",
              "                               number_customer_service_calls     churn  \n",
              "number_vmail_messages                              -0.004694 -0.096963  \n",
              "total_day_minutes                                  -0.086147  0.166053  \n",
              "total_day_calls                                     0.026548 -0.038684  \n",
              "total_day_charge                                   -0.086139  0.166041  \n",
              "total_eve_minutes                                  -0.033065  0.050380  \n",
              "total_eve_calls                                     0.014398  0.042400  \n",
              "total_eve_charge                                   -0.033076  0.050381  \n",
              "total_night_minutes                                 0.024368  0.030249  \n",
              "total_night_calls                                   0.018953 -0.026476  \n",
              "total_night_charge                                  0.024333  0.030239  \n",
              "total_intl_minutes                                 -0.008892  0.063478  \n",
              "total_intl_calls                                   -0.005388 -0.027064  \n",
              "total_intl_charge                                  -0.009059  0.063389  \n",
              "number_customer_service_calls                       1.000000  0.269173  \n",
              "churn                                               0.269173  1.000000  "
            ],
            "text/html": [
              "\n",
              "  <div id=\"df-07e87c85-179a-4b5c-97e3-802669ca6d75\">\n",
              "    <div class=\"colab-df-container\">\n",
              "      <div>\n",
              "<style scoped>\n",
              "    .dataframe tbody tr th:only-of-type {\n",
              "        vertical-align: middle;\n",
              "    }\n",
              "\n",
              "    .dataframe tbody tr th {\n",
              "        vertical-align: top;\n",
              "    }\n",
              "\n",
              "    .dataframe thead th {\n",
              "        text-align: right;\n",
              "    }\n",
              "</style>\n",
              "<table border=\"1\" class=\"dataframe\">\n",
              "  <thead>\n",
              "    <tr style=\"text-align: right;\">\n",
              "      <th></th>\n",
              "      <th>number_vmail_messages</th>\n",
              "      <th>total_day_minutes</th>\n",
              "      <th>total_day_calls</th>\n",
              "      <th>total_day_charge</th>\n",
              "      <th>total_eve_minutes</th>\n",
              "      <th>total_eve_calls</th>\n",
              "      <th>total_eve_charge</th>\n",
              "      <th>total_night_minutes</th>\n",
              "      <th>total_night_calls</th>\n",
              "      <th>total_night_charge</th>\n",
              "      <th>total_intl_minutes</th>\n",
              "      <th>total_intl_calls</th>\n",
              "      <th>total_intl_charge</th>\n",
              "      <th>number_customer_service_calls</th>\n",
              "      <th>churn</th>\n",
              "    </tr>\n",
              "  </thead>\n",
              "  <tbody>\n",
              "    <tr>\n",
              "      <th>number_vmail_messages</th>\n",
              "      <td>1.000000</td>\n",
              "      <td>0.039813</td>\n",
              "      <td>-0.028675</td>\n",
              "      <td>0.039809</td>\n",
              "      <td>0.038452</td>\n",
              "      <td>-0.000818</td>\n",
              "      <td>0.038417</td>\n",
              "      <td>0.041954</td>\n",
              "      <td>0.028341</td>\n",
              "      <td>0.041975</td>\n",
              "      <td>-0.015470</td>\n",
              "      <td>-0.066711</td>\n",
              "      <td>-0.015495</td>\n",
              "      <td>-0.004694</td>\n",
              "      <td>-0.096963</td>\n",
              "    </tr>\n",
              "    <tr>\n",
              "      <th>total_day_minutes</th>\n",
              "      <td>0.039813</td>\n",
              "      <td>1.000000</td>\n",
              "      <td>-0.045254</td>\n",
              "      <td>1.000000</td>\n",
              "      <td>0.013029</td>\n",
              "      <td>0.077886</td>\n",
              "      <td>0.012984</td>\n",
              "      <td>-0.026780</td>\n",
              "      <td>0.029684</td>\n",
              "      <td>-0.026733</td>\n",
              "      <td>-0.005504</td>\n",
              "      <td>-0.014544</td>\n",
              "      <td>-0.005172</td>\n",
              "      <td>-0.086147</td>\n",
              "      <td>0.166053</td>\n",
              "    </tr>\n",
              "    <tr>\n",
              "      <th>total_day_calls</th>\n",
              "      <td>-0.028675</td>\n",
              "      <td>-0.045254</td>\n",
              "      <td>1.000000</td>\n",
              "      <td>-0.045249</td>\n",
              "      <td>0.019555</td>\n",
              "      <td>-0.039674</td>\n",
              "      <td>0.019601</td>\n",
              "      <td>0.019353</td>\n",
              "      <td>0.032927</td>\n",
              "      <td>0.019300</td>\n",
              "      <td>0.013914</td>\n",
              "      <td>0.000987</td>\n",
              "      <td>0.014146</td>\n",
              "      <td>0.026548</td>\n",
              "      <td>-0.038684</td>\n",
              "    </tr>\n",
              "    <tr>\n",
              "      <th>total_day_charge</th>\n",
              "      <td>0.039809</td>\n",
              "      <td>1.000000</td>\n",
              "      <td>-0.045249</td>\n",
              "      <td>1.000000</td>\n",
              "      <td>0.013033</td>\n",
              "      <td>0.077870</td>\n",
              "      <td>0.012987</td>\n",
              "      <td>-0.026767</td>\n",
              "      <td>0.029660</td>\n",
              "      <td>-0.026720</td>\n",
              "      <td>-0.005520</td>\n",
              "      <td>-0.014553</td>\n",
              "      <td>-0.005188</td>\n",
              "      <td>-0.086139</td>\n",
              "      <td>0.166041</td>\n",
              "    </tr>\n",
              "    <tr>\n",
              "      <th>total_eve_minutes</th>\n",
              "      <td>0.038452</td>\n",
              "      <td>0.013029</td>\n",
              "      <td>0.019555</td>\n",
              "      <td>0.013033</td>\n",
              "      <td>1.000000</td>\n",
              "      <td>-0.045727</td>\n",
              "      <td>1.000000</td>\n",
              "      <td>0.010361</td>\n",
              "      <td>0.041815</td>\n",
              "      <td>0.010337</td>\n",
              "      <td>-0.044521</td>\n",
              "      <td>-0.032636</td>\n",
              "      <td>-0.044331</td>\n",
              "      <td>-0.033065</td>\n",
              "      <td>0.050380</td>\n",
              "    </tr>\n",
              "    <tr>\n",
              "      <th>total_eve_calls</th>\n",
              "      <td>-0.000818</td>\n",
              "      <td>0.077886</td>\n",
              "      <td>-0.039674</td>\n",
              "      <td>0.077870</td>\n",
              "      <td>-0.045727</td>\n",
              "      <td>1.000000</td>\n",
              "      <td>-0.045709</td>\n",
              "      <td>0.048282</td>\n",
              "      <td>-0.026608</td>\n",
              "      <td>0.048343</td>\n",
              "      <td>0.009477</td>\n",
              "      <td>-0.026235</td>\n",
              "      <td>0.009497</td>\n",
              "      <td>0.014398</td>\n",
              "      <td>0.042400</td>\n",
              "    </tr>\n",
              "    <tr>\n",
              "      <th>total_eve_charge</th>\n",
              "      <td>0.038417</td>\n",
              "      <td>0.012984</td>\n",
              "      <td>0.019601</td>\n",
              "      <td>0.012987</td>\n",
              "      <td>1.000000</td>\n",
              "      <td>-0.045709</td>\n",
              "      <td>1.000000</td>\n",
              "      <td>0.010393</td>\n",
              "      <td>0.041821</td>\n",
              "      <td>0.010369</td>\n",
              "      <td>-0.044489</td>\n",
              "      <td>-0.032652</td>\n",
              "      <td>-0.044299</td>\n",
              "      <td>-0.033076</td>\n",
              "      <td>0.050381</td>\n",
              "    </tr>\n",
              "    <tr>\n",
              "      <th>total_night_minutes</th>\n",
              "      <td>0.041954</td>\n",
              "      <td>-0.026780</td>\n",
              "      <td>0.019353</td>\n",
              "      <td>-0.026767</td>\n",
              "      <td>0.010361</td>\n",
              "      <td>0.048282</td>\n",
              "      <td>0.010393</td>\n",
              "      <td>1.000000</td>\n",
              "      <td>-0.055249</td>\n",
              "      <td>0.999999</td>\n",
              "      <td>-0.019430</td>\n",
              "      <td>-0.054534</td>\n",
              "      <td>-0.019259</td>\n",
              "      <td>0.024368</td>\n",
              "      <td>0.030249</td>\n",
              "    </tr>\n",
              "    <tr>\n",
              "      <th>total_night_calls</th>\n",
              "      <td>0.028341</td>\n",
              "      <td>0.029684</td>\n",
              "      <td>0.032927</td>\n",
              "      <td>0.029660</td>\n",
              "      <td>0.041815</td>\n",
              "      <td>-0.026608</td>\n",
              "      <td>0.041821</td>\n",
              "      <td>-0.055249</td>\n",
              "      <td>1.000000</td>\n",
              "      <td>-0.055289</td>\n",
              "      <td>-0.037849</td>\n",
              "      <td>-0.043994</td>\n",
              "      <td>-0.037922</td>\n",
              "      <td>0.018953</td>\n",
              "      <td>-0.026476</td>\n",
              "    </tr>\n",
              "    <tr>\n",
              "      <th>total_night_charge</th>\n",
              "      <td>0.041975</td>\n",
              "      <td>-0.026733</td>\n",
              "      <td>0.019300</td>\n",
              "      <td>-0.026720</td>\n",
              "      <td>0.010337</td>\n",
              "      <td>0.048343</td>\n",
              "      <td>0.010369</td>\n",
              "      <td>0.999999</td>\n",
              "      <td>-0.055289</td>\n",
              "      <td>1.000000</td>\n",
              "      <td>-0.019489</td>\n",
              "      <td>-0.054493</td>\n",
              "      <td>-0.019318</td>\n",
              "      <td>0.024333</td>\n",
              "      <td>0.030239</td>\n",
              "    </tr>\n",
              "    <tr>\n",
              "      <th>total_intl_minutes</th>\n",
              "      <td>-0.015470</td>\n",
              "      <td>-0.005504</td>\n",
              "      <td>0.013914</td>\n",
              "      <td>-0.005520</td>\n",
              "      <td>-0.044521</td>\n",
              "      <td>0.009477</td>\n",
              "      <td>-0.044489</td>\n",
              "      <td>-0.019430</td>\n",
              "      <td>-0.037849</td>\n",
              "      <td>-0.019489</td>\n",
              "      <td>1.000000</td>\n",
              "      <td>0.037702</td>\n",
              "      <td>0.999992</td>\n",
              "      <td>-0.008892</td>\n",
              "      <td>0.063478</td>\n",
              "    </tr>\n",
              "    <tr>\n",
              "      <th>total_intl_calls</th>\n",
              "      <td>-0.066711</td>\n",
              "      <td>-0.014544</td>\n",
              "      <td>0.000987</td>\n",
              "      <td>-0.014553</td>\n",
              "      <td>-0.032636</td>\n",
              "      <td>-0.026235</td>\n",
              "      <td>-0.032652</td>\n",
              "      <td>-0.054534</td>\n",
              "      <td>-0.043994</td>\n",
              "      <td>-0.054493</td>\n",
              "      <td>0.037702</td>\n",
              "      <td>1.000000</td>\n",
              "      <td>0.037688</td>\n",
              "      <td>-0.005388</td>\n",
              "      <td>-0.027064</td>\n",
              "    </tr>\n",
              "    <tr>\n",
              "      <th>total_intl_charge</th>\n",
              "      <td>-0.015495</td>\n",
              "      <td>-0.005172</td>\n",
              "      <td>0.014146</td>\n",
              "      <td>-0.005188</td>\n",
              "      <td>-0.044331</td>\n",
              "      <td>0.009497</td>\n",
              "      <td>-0.044299</td>\n",
              "      <td>-0.019259</td>\n",
              "      <td>-0.037922</td>\n",
              "      <td>-0.019318</td>\n",
              "      <td>0.999992</td>\n",
              "      <td>0.037688</td>\n",
              "      <td>1.000000</td>\n",
              "      <td>-0.009059</td>\n",
              "      <td>0.063389</td>\n",
              "    </tr>\n",
              "    <tr>\n",
              "      <th>number_customer_service_calls</th>\n",
              "      <td>-0.004694</td>\n",
              "      <td>-0.086147</td>\n",
              "      <td>0.026548</td>\n",
              "      <td>-0.086139</td>\n",
              "      <td>-0.033065</td>\n",
              "      <td>0.014398</td>\n",
              "      <td>-0.033076</td>\n",
              "      <td>0.024368</td>\n",
              "      <td>0.018953</td>\n",
              "      <td>0.024333</td>\n",
              "      <td>-0.008892</td>\n",
              "      <td>-0.005388</td>\n",
              "      <td>-0.009059</td>\n",
              "      <td>1.000000</td>\n",
              "      <td>0.269173</td>\n",
              "    </tr>\n",
              "    <tr>\n",
              "      <th>churn</th>\n",
              "      <td>-0.096963</td>\n",
              "      <td>0.166053</td>\n",
              "      <td>-0.038684</td>\n",
              "      <td>0.166041</td>\n",
              "      <td>0.050380</td>\n",
              "      <td>0.042400</td>\n",
              "      <td>0.050381</td>\n",
              "      <td>0.030249</td>\n",
              "      <td>-0.026476</td>\n",
              "      <td>0.030239</td>\n",
              "      <td>0.063478</td>\n",
              "      <td>-0.027064</td>\n",
              "      <td>0.063389</td>\n",
              "      <td>0.269173</td>\n",
              "      <td>1.000000</td>\n",
              "    </tr>\n",
              "  </tbody>\n",
              "</table>\n",
              "</div>\n",
              "      <button class=\"colab-df-convert\" onclick=\"convertToInteractive('df-07e87c85-179a-4b5c-97e3-802669ca6d75')\"\n",
              "              title=\"Convert this dataframe to an interactive table.\"\n",
              "              style=\"display:none;\">\n",
              "        \n",
              "  <svg xmlns=\"http://www.w3.org/2000/svg\" height=\"24px\"viewBox=\"0 0 24 24\"\n",
              "       width=\"24px\">\n",
              "    <path d=\"M0 0h24v24H0V0z\" fill=\"none\"/>\n",
              "    <path d=\"M18.56 5.44l.94 2.06.94-2.06 2.06-.94-2.06-.94-.94-2.06-.94 2.06-2.06.94zm-11 1L8.5 8.5l.94-2.06 2.06-.94-2.06-.94L8.5 2.5l-.94 2.06-2.06.94zm10 10l.94 2.06.94-2.06 2.06-.94-2.06-.94-.94-2.06-.94 2.06-2.06.94z\"/><path d=\"M17.41 7.96l-1.37-1.37c-.4-.4-.92-.59-1.43-.59-.52 0-1.04.2-1.43.59L10.3 9.45l-7.72 7.72c-.78.78-.78 2.05 0 2.83L4 21.41c.39.39.9.59 1.41.59.51 0 1.02-.2 1.41-.59l7.78-7.78 2.81-2.81c.8-.78.8-2.07 0-2.86zM5.41 20L4 18.59l7.72-7.72 1.47 1.35L5.41 20z\"/>\n",
              "  </svg>\n",
              "      </button>\n",
              "      \n",
              "  <style>\n",
              "    .colab-df-container {\n",
              "      display:flex;\n",
              "      flex-wrap:wrap;\n",
              "      gap: 12px;\n",
              "    }\n",
              "\n",
              "    .colab-df-convert {\n",
              "      background-color: #E8F0FE;\n",
              "      border: none;\n",
              "      border-radius: 50%;\n",
              "      cursor: pointer;\n",
              "      display: none;\n",
              "      fill: #1967D2;\n",
              "      height: 32px;\n",
              "      padding: 0 0 0 0;\n",
              "      width: 32px;\n",
              "    }\n",
              "\n",
              "    .colab-df-convert:hover {\n",
              "      background-color: #E2EBFA;\n",
              "      box-shadow: 0px 1px 2px rgba(60, 64, 67, 0.3), 0px 1px 3px 1px rgba(60, 64, 67, 0.15);\n",
              "      fill: #174EA6;\n",
              "    }\n",
              "\n",
              "    [theme=dark] .colab-df-convert {\n",
              "      background-color: #3B4455;\n",
              "      fill: #D2E3FC;\n",
              "    }\n",
              "\n",
              "    [theme=dark] .colab-df-convert:hover {\n",
              "      background-color: #434B5C;\n",
              "      box-shadow: 0px 1px 3px 1px rgba(0, 0, 0, 0.15);\n",
              "      filter: drop-shadow(0px 1px 2px rgba(0, 0, 0, 0.3));\n",
              "      fill: #FFFFFF;\n",
              "    }\n",
              "  </style>\n",
              "\n",
              "      <script>\n",
              "        const buttonEl =\n",
              "          document.querySelector('#df-07e87c85-179a-4b5c-97e3-802669ca6d75 button.colab-df-convert');\n",
              "        buttonEl.style.display =\n",
              "          google.colab.kernel.accessAllowed ? 'block' : 'none';\n",
              "\n",
              "        async function convertToInteractive(key) {\n",
              "          const element = document.querySelector('#df-07e87c85-179a-4b5c-97e3-802669ca6d75');\n",
              "          const dataTable =\n",
              "            await google.colab.kernel.invokeFunction('convertToInteractive',\n",
              "                                                     [key], {});\n",
              "          if (!dataTable) return;\n",
              "\n",
              "          const docLinkHtml = 'Like what you see? Visit the ' +\n",
              "            '<a target=\"_blank\" href=https://colab.research.google.com/notebooks/data_table.ipynb>data table notebook</a>'\n",
              "            + ' to learn more about interactive tables.';\n",
              "          element.innerHTML = '';\n",
              "          dataTable['output_type'] = 'display_data';\n",
              "          await google.colab.output.renderOutput(dataTable, element);\n",
              "          const docLink = document.createElement('div');\n",
              "          docLink.innerHTML = docLinkHtml;\n",
              "          element.appendChild(docLink);\n",
              "        }\n",
              "      </script>\n",
              "    </div>\n",
              "  </div>\n",
              "  "
            ]
          },
          "metadata": {},
          "execution_count": 48
        }
      ]
    },
    {
      "cell_type": "markdown",
      "source": [
        "Copied the dataframe df with 4 features and target variable into dataframe df1"
      ],
      "metadata": {
        "id": "VxDXauIj11FR"
      }
    },
    {
      "cell_type": "code",
      "execution_count": null,
      "metadata": {
        "id": "BQtsSlPFNeU-"
      },
      "outputs": [],
      "source": [
        "#copy the dataframe into df1 with selected features\n",
        "df1=df[['total_day_charge','total_eve_charge','total_night_charge','number_customer_service_calls','churn']].copy()"
      ]
    },
    {
      "cell_type": "code",
      "execution_count": null,
      "metadata": {
        "colab": {
          "base_uri": "https://localhost:8080/",
          "height": 206
        },
        "id": "GMRDykNzPIEb",
        "outputId": "5beb8bd5-495a-461d-9912-cfd50593c6cc"
      },
      "outputs": [
        {
          "output_type": "execute_result",
          "data": {
            "text/plain": [
              "      total_day_charge  total_eve_charge  total_night_charge  \\\n",
              "2080             33.49             17.09                6.80   \n",
              "1725             40.82             15.33                6.00   \n",
              "2167             23.78             19.01               10.84   \n",
              "567              43.64             12.79                5.54   \n",
              "791              43.76             22.19                9.20   \n",
              "\n",
              "      number_customer_service_calls  churn  \n",
              "2080                              1      0  \n",
              "1725                              3      0  \n",
              "2167                              2      0  \n",
              "567                               3      0  \n",
              "791                               2      1  "
            ],
            "text/html": [
              "\n",
              "  <div id=\"df-12a46c60-3369-4d2b-8fc6-f1ba553fc420\">\n",
              "    <div class=\"colab-df-container\">\n",
              "      <div>\n",
              "<style scoped>\n",
              "    .dataframe tbody tr th:only-of-type {\n",
              "        vertical-align: middle;\n",
              "    }\n",
              "\n",
              "    .dataframe tbody tr th {\n",
              "        vertical-align: top;\n",
              "    }\n",
              "\n",
              "    .dataframe thead th {\n",
              "        text-align: right;\n",
              "    }\n",
              "</style>\n",
              "<table border=\"1\" class=\"dataframe\">\n",
              "  <thead>\n",
              "    <tr style=\"text-align: right;\">\n",
              "      <th></th>\n",
              "      <th>total_day_charge</th>\n",
              "      <th>total_eve_charge</th>\n",
              "      <th>total_night_charge</th>\n",
              "      <th>number_customer_service_calls</th>\n",
              "      <th>churn</th>\n",
              "    </tr>\n",
              "  </thead>\n",
              "  <tbody>\n",
              "    <tr>\n",
              "      <th>2080</th>\n",
              "      <td>33.49</td>\n",
              "      <td>17.09</td>\n",
              "      <td>6.80</td>\n",
              "      <td>1</td>\n",
              "      <td>0</td>\n",
              "    </tr>\n",
              "    <tr>\n",
              "      <th>1725</th>\n",
              "      <td>40.82</td>\n",
              "      <td>15.33</td>\n",
              "      <td>6.00</td>\n",
              "      <td>3</td>\n",
              "      <td>0</td>\n",
              "    </tr>\n",
              "    <tr>\n",
              "      <th>2167</th>\n",
              "      <td>23.78</td>\n",
              "      <td>19.01</td>\n",
              "      <td>10.84</td>\n",
              "      <td>2</td>\n",
              "      <td>0</td>\n",
              "    </tr>\n",
              "    <tr>\n",
              "      <th>567</th>\n",
              "      <td>43.64</td>\n",
              "      <td>12.79</td>\n",
              "      <td>5.54</td>\n",
              "      <td>3</td>\n",
              "      <td>0</td>\n",
              "    </tr>\n",
              "    <tr>\n",
              "      <th>791</th>\n",
              "      <td>43.76</td>\n",
              "      <td>22.19</td>\n",
              "      <td>9.20</td>\n",
              "      <td>2</td>\n",
              "      <td>1</td>\n",
              "    </tr>\n",
              "  </tbody>\n",
              "</table>\n",
              "</div>\n",
              "      <button class=\"colab-df-convert\" onclick=\"convertToInteractive('df-12a46c60-3369-4d2b-8fc6-f1ba553fc420')\"\n",
              "              title=\"Convert this dataframe to an interactive table.\"\n",
              "              style=\"display:none;\">\n",
              "        \n",
              "  <svg xmlns=\"http://www.w3.org/2000/svg\" height=\"24px\"viewBox=\"0 0 24 24\"\n",
              "       width=\"24px\">\n",
              "    <path d=\"M0 0h24v24H0V0z\" fill=\"none\"/>\n",
              "    <path d=\"M18.56 5.44l.94 2.06.94-2.06 2.06-.94-2.06-.94-.94-2.06-.94 2.06-2.06.94zm-11 1L8.5 8.5l.94-2.06 2.06-.94-2.06-.94L8.5 2.5l-.94 2.06-2.06.94zm10 10l.94 2.06.94-2.06 2.06-.94-2.06-.94-.94-2.06-.94 2.06-2.06.94z\"/><path d=\"M17.41 7.96l-1.37-1.37c-.4-.4-.92-.59-1.43-.59-.52 0-1.04.2-1.43.59L10.3 9.45l-7.72 7.72c-.78.78-.78 2.05 0 2.83L4 21.41c.39.39.9.59 1.41.59.51 0 1.02-.2 1.41-.59l7.78-7.78 2.81-2.81c.8-.78.8-2.07 0-2.86zM5.41 20L4 18.59l7.72-7.72 1.47 1.35L5.41 20z\"/>\n",
              "  </svg>\n",
              "      </button>\n",
              "      \n",
              "  <style>\n",
              "    .colab-df-container {\n",
              "      display:flex;\n",
              "      flex-wrap:wrap;\n",
              "      gap: 12px;\n",
              "    }\n",
              "\n",
              "    .colab-df-convert {\n",
              "      background-color: #E8F0FE;\n",
              "      border: none;\n",
              "      border-radius: 50%;\n",
              "      cursor: pointer;\n",
              "      display: none;\n",
              "      fill: #1967D2;\n",
              "      height: 32px;\n",
              "      padding: 0 0 0 0;\n",
              "      width: 32px;\n",
              "    }\n",
              "\n",
              "    .colab-df-convert:hover {\n",
              "      background-color: #E2EBFA;\n",
              "      box-shadow: 0px 1px 2px rgba(60, 64, 67, 0.3), 0px 1px 3px 1px rgba(60, 64, 67, 0.15);\n",
              "      fill: #174EA6;\n",
              "    }\n",
              "\n",
              "    [theme=dark] .colab-df-convert {\n",
              "      background-color: #3B4455;\n",
              "      fill: #D2E3FC;\n",
              "    }\n",
              "\n",
              "    [theme=dark] .colab-df-convert:hover {\n",
              "      background-color: #434B5C;\n",
              "      box-shadow: 0px 1px 3px 1px rgba(0, 0, 0, 0.15);\n",
              "      filter: drop-shadow(0px 1px 2px rgba(0, 0, 0, 0.3));\n",
              "      fill: #FFFFFF;\n",
              "    }\n",
              "  </style>\n",
              "\n",
              "      <script>\n",
              "        const buttonEl =\n",
              "          document.querySelector('#df-12a46c60-3369-4d2b-8fc6-f1ba553fc420 button.colab-df-convert');\n",
              "        buttonEl.style.display =\n",
              "          google.colab.kernel.accessAllowed ? 'block' : 'none';\n",
              "\n",
              "        async function convertToInteractive(key) {\n",
              "          const element = document.querySelector('#df-12a46c60-3369-4d2b-8fc6-f1ba553fc420');\n",
              "          const dataTable =\n",
              "            await google.colab.kernel.invokeFunction('convertToInteractive',\n",
              "                                                     [key], {});\n",
              "          if (!dataTable) return;\n",
              "\n",
              "          const docLinkHtml = 'Like what you see? Visit the ' +\n",
              "            '<a target=\"_blank\" href=https://colab.research.google.com/notebooks/data_table.ipynb>data table notebook</a>'\n",
              "            + ' to learn more about interactive tables.';\n",
              "          element.innerHTML = '';\n",
              "          dataTable['output_type'] = 'display_data';\n",
              "          await google.colab.output.renderOutput(dataTable, element);\n",
              "          const docLink = document.createElement('div');\n",
              "          docLink.innerHTML = docLinkHtml;\n",
              "          element.appendChild(docLink);\n",
              "        }\n",
              "      </script>\n",
              "    </div>\n",
              "  </div>\n",
              "  "
            ]
          },
          "metadata": {},
          "execution_count": 50
        }
      ],
      "source": [
        "df1.head()"
      ]
    },
    {
      "cell_type": "markdown",
      "metadata": {
        "id": "3LWL5j9VzQUq"
      },
      "source": [
        "**Split the dataset into train and test set.**\n",
        "\n",
        "\n",
        "\n",
        "Split the dataset into a training set and a testing set. This is done to evaluate the performance of the model on new, unseen data and to avoid overfitting, where the model performs well on the training data but poorly on new data.\n",
        "\n",
        "Please note that the dataset is split into train and test,not as target and independent variable.Because need to do some cleaning on the dataset.This is done to avoid data leakage."
      ]
    },
    {
      "cell_type": "markdown",
      "metadata": {
        "id": "cYuAZNg5wERz"
      },
      "source": [
        "We have passed **test_size** as 0.33 which means 33% of data will be in the test part and rest will be in train part.\n",
        "random_state=42 means that when you run the code split the data as it is done previously.It means that your result are same when the code is run on any number of times."
      ]
    },
    {
      "cell_type": "code",
      "execution_count": null,
      "metadata": {
        "colab": {
          "base_uri": "https://localhost:8080/"
        },
        "id": "8KbkD3Ve0z7u",
        "outputId": "89236656-fd74-46cb-93af-7ca7fd9676c2"
      },
      "outputs": [
        {
          "output_type": "stream",
          "name": "stdout",
          "text": [
            "The size of  train dataset (335, 5)\n",
            "The size of test dataset (165, 5)\n"
          ]
        }
      ],
      "source": [
        "X_train, X_test= train_test_split(df1, test_size=0.33, random_state=42)\n",
        "#Display the size of train and test dataset.\n",
        "print(\"The size of  train dataset\",X_train.shape)\n",
        "print(\"The size of test dataset\",X_test.shape)"
      ]
    },
    {
      "cell_type": "markdown",
      "metadata": {
        "id": "FpDoMQ-oKdRC"
      },
      "source": [
        "# **Separating the features and target label**"
      ]
    },
    {
      "cell_type": "code",
      "execution_count": null,
      "metadata": {
        "colab": {
          "base_uri": "https://localhost:8080/"
        },
        "id": "9h5lgFQuMJ0N",
        "outputId": "508cbb70-64ab-4305-86d6-0a9b35031662"
      },
      "outputs": [
        {
          "output_type": "stream",
          "name": "stdout",
          "text": [
            "x-train size (335, 4)\n",
            "y-train size (335,)\n",
            "X-test size (165, 4)\n",
            "y-test size (165,)\n"
          ]
        }
      ],
      "source": [
        "#split the train dataset and test data set as features and target label\n",
        "x_train=X_train.drop(['churn'],axis=1)\n",
        "y_train=X_train['churn']\n",
        "x_test=X_test.drop(['churn'],axis=1)\n",
        "y_test=X_test['churn']\n",
        "print(\"x-train size\",x_train.shape)\n",
        "print(\"y-train size\",y_train.shape)\n",
        "print(\"X-test size\",x_test.shape)\n",
        "print(\"y-test size\",y_test.shape)"
      ]
    },
    {
      "cell_type": "markdown",
      "metadata": {
        "id": "BKJO4hSoPj9j"
      },
      "source": [
        "To model the dataset,split the dataset into x-train and y_train."
      ]
    },
    {
      "cell_type": "markdown",
      "metadata": {
        "id": "Z7rpRrLZGD6e"
      },
      "source": [
        "Standardisation\n",
        "\n",
        "Machine learning pre-processing methods like the StandardScaler are used to uniformly scale a dataset's characteristics. Because it ensures that each feature contributes equally to the analysis and prevents features with significant variations from dominating the study, it scales the data to have zero mean and unit variance, which is critical in many machine learning techniques."
      ]
    },
    {
      "cell_type": "code",
      "execution_count": null,
      "metadata": {
        "id": "_USQS4McEsKj"
      },
      "outputs": [],
      "source": [
        "\n",
        "# Standard Scaler object\n",
        "sc = StandardScaler()\n",
        "\n",
        "# fit the sc to the data especially train dataset\n",
        "sc.fit(x_train)\n",
        "\n",
        "# transform the data\n",
        "X_scaled_tr = sc.transform(x_train)\n",
        "\n",
        "\n",
        "# fit the scaler to the data\n",
        "sc.fit(x_test)\n",
        "\n",
        "# transform the data using the scaler\n",
        "X_scale_te= sc.transform(x_test)\n",
        "\n",
        "\n"
      ]
    },
    {
      "cell_type": "markdown",
      "metadata": {
        "id": "LWynKKdeRssS"
      },
      "source": [
        "Standardization allows you to compare the relative importance of various data features. If the features are not standardised, a feature with a larger scale may outperform other features, resulting in biassed results."
      ]
    },
    {
      "cell_type": "code",
      "execution_count": null,
      "metadata": {
        "colab": {
          "base_uri": "https://localhost:8080/"
        },
        "id": "PKcla7Z9GohW",
        "outputId": "7b592c45-6d8b-40c9-ea6f-f58123cae1dd"
      },
      "outputs": [
        {
          "output_type": "execute_result",
          "data": {
            "text/plain": [
              "(335, 4)"
            ]
          },
          "metadata": {},
          "execution_count": 26
        }
      ],
      "source": [
        "X_scaled_tr.shape"
      ]
    },
    {
      "cell_type": "code",
      "execution_count": null,
      "metadata": {
        "colab": {
          "base_uri": "https://localhost:8080/"
        },
        "id": "a-3v7Wn7GssK",
        "outputId": "8b7393ac-f857-426c-be4c-33b1f849d030"
      },
      "outputs": [
        {
          "output_type": "execute_result",
          "data": {
            "text/plain": [
              "(335,)"
            ]
          },
          "metadata": {},
          "execution_count": 27
        }
      ],
      "source": [
        "y_train.shape"
      ]
    },
    {
      "cell_type": "markdown",
      "metadata": {
        "id": "4tJVZd-ehZm3"
      },
      "source": [
        "**Balance the dataset using SMOT Algorithm**\n",
        "\n",
        "---\n",
        "\n"
      ]
    },
    {
      "cell_type": "markdown",
      "source": [
        "The dataset is imbalanced the aforementioned in the code (Cell number:8).To balance the dataset,use the SMOTE algorithm."
      ],
      "metadata": {
        "id": "Uf0I9hz-c8Rp"
      }
    },
    {
      "cell_type": "code",
      "execution_count": null,
      "metadata": {
        "id": "uucdj9ToS4CX"
      },
      "outputs": [],
      "source": [
        "# apply SMOTE\n",
        "smote = SMOTE()\n",
        "X_train,y_train = smote.fit_resample(X_scaled_tr,y_train)"
      ]
    },
    {
      "cell_type": "markdown",
      "metadata": {
        "id": "GCYKjSejWgYX"
      },
      "source": [
        "**Algorithm selection and Hyperparameter turning**"
      ]
    },
    {
      "cell_type": "markdown",
      "source": [
        "First create a model of decision tree algorithm with best hyperparameters  and find out best hyperparameters using gridsearch method ."
      ],
      "metadata": {
        "id": "lMxT6m5N_Htj"
      }
    },
    {
      "cell_type": "code",
      "execution_count": null,
      "metadata": {
        "colab": {
          "base_uri": "https://localhost:8080/"
        },
        "id": "VsiAOSmRWsqb",
        "outputId": "973e9b6f-ecf2-4913-e7b6-d9fd307d7c0e"
      },
      "outputs": [
        {
          "output_type": "stream",
          "name": "stdout",
          "text": [
            "Best accuracy 0.83\n",
            "Best Hyperparameters:  {'criterion': 'gini', 'max_depth': 4, 'min_samples_leaf': 1, 'min_samples_split': 4}\n"
          ]
        }
      ],
      "source": [
        "# create a decision tree classifier object\n",
        "dtc = DecisionTreeClassifier()\n",
        "\n",
        "#  the hyperparameters to tune\n",
        "params = {\n",
        "    'criterion': ['gini', 'entropy'],\n",
        "    'max_depth': [3, 4, 5, 6],\n",
        "    'min_samples_leaf': [1, 2, 3, 4],\n",
        "    'min_samples_split': [2, 3, 4, 5]\n",
        "}\n",
        "\n",
        "# create a GridSearchCV object\n",
        "grid1 = GridSearchCV(dtc, params, cv=5,n_jobs=-1)\n",
        "\n",
        "# fit the GridSearchCV object to the data\n",
        "grid1.fit(X_train,y_train )\n",
        "\n",
        "# display the best hyperparameters\n",
        "print(\"Best accuracy {:.2f}\".format(grid1.best_score_))\n",
        "print(\"Best Hyperparameters: \", grid1.best_params_)"
      ]
    },
    {
      "cell_type": "markdown",
      "source": [
        "Secondly create a model of SVM algorithm with best hyperparameters and find out best hyperparameters using gridsearch method.And best accuracy of the model.Here hyperparameters are kernel and C."
      ],
      "metadata": {
        "id": "-E2OK6Sc_0px"
      }
    },
    {
      "cell_type": "code",
      "execution_count": null,
      "metadata": {
        "colab": {
          "base_uri": "https://localhost:8080/"
        },
        "id": "fdUKhz5IYrJR",
        "outputId": "9f0e36a6-99d5-46e4-ce95-dffb60bf58d8"
      },
      "outputs": [
        {
          "output_type": "stream",
          "name": "stdout",
          "text": [
            "Best Hyperparameters:  {'C': 10, 'kernel': 'rbf'}\n",
            "Best Hyperparameters: 0.86\n"
          ]
        }
      ],
      "source": [
        "# create a SVM classifier object\n",
        "svm = SVC()\n",
        "\n",
        "# define the hyperparameters to tune\n",
        "params = {\n",
        "    'kernel': ['linear', 'rbf', 'poly'],\n",
        "    'C': [0.1, 1, 10],\n",
        "\n",
        "}\n",
        "\n",
        "# create a GridSearchCV object\n",
        "grid_search1= GridSearchCV(svm, params, cv=5,n_jobs=-1)\n",
        "\n",
        "# fit the GridSearchCV object to the data\n",
        "grid_search1.fit(X_train,y_train)\n",
        "\n",
        "# print the best hyperparameters\n",
        "print(\"Best Hyperparameters: \", grid_search1.best_params_)\n",
        "print(\"Best Hyperparameters: {:.2f}\".format(grid_search1.best_score_))\n"
      ]
    },
    {
      "cell_type": "markdown",
      "metadata": {
        "id": "ebosPuaP3JcO"
      },
      "source": [
        "\n",
        "# **Testing the model**\n",
        "---\n",
        "\n"
      ]
    },
    {
      "cell_type": "markdown",
      "metadata": {
        "id": "Mo3Kx5t138xM"
      },
      "source": [
        "Create model for the customer chrun dataset using Support Vector Machine and Decision Tree classification.Best accuracy of the model for this dataset is 86% when the model is created using SVM algorithm.So the model is tested using SVM algorithm."
      ]
    },
    {
      "cell_type": "code",
      "execution_count": null,
      "metadata": {
        "colab": {
          "base_uri": "https://localhost:8080/"
        },
        "id": "-Y4SLeAndQdZ",
        "outputId": "0cea2467-c674-4826-c5a7-876268af96a9"
      },
      "outputs": [
        {
          "output_type": "stream",
          "name": "stdout",
          "text": [
            "The value of confusion matrix [[  0 136]\n",
            " [  0  29]]\n",
            "The value of precision 0.17575757575757575\n",
            "The value of recall 1.0\n"
          ]
        }
      ],
      "source": [
        "y_predict=grid_search.predict(x_test)\n",
        "confusion_matrix = metrics.confusion_matrix(y_test, y_predict)\n",
        "precision = precision_score(y_test, y_predict)\n",
        "recall = recall_score(y_test, y_predict)\n",
        "\n",
        "print(\"The value of confusion matrix\",confusion_matrix)\n",
        "print(\"The value of precision\",precision)\n",
        "print(\"The value of recall\",recall)\n",
        "\n"
      ]
    },
    {
      "cell_type": "markdown",
      "source": [
        "The confusion matrix [[0 136] [0 29]] represents the performance of a binary classification model that made predictions on a set of samples. The matrix shows the number of true positives (TP), false positives (FP), true negatives (TN), and false negatives (FN) for the model's predictions.\n",
        "\n",
        "Looking at the matrix, we can see that there are two classes being predicted. The first row represents the negative class, and the second row represents the positive class. The first column represents the samples predicted as negative, while the second column represents the samples predicted as positive.\n",
        "\n",
        "The number 0 in the top-left corner represents the number of true negatives (TN). The model correctly predicted 0 samples as negative out of a total of 0 + 136 = 136 negative samples.\n",
        "The number 136 in the top-right corner represents the number of false positives (FP). The model incorrectly predicted 136 samples as positive out of a total of 136 + 29 = 165 positive samples.\n",
        "The number 0 in the bottom-left corner represents the number of false negatives (FN). The model incorrectly predicted 0 samples as negative out of a total of 0 + 29 = 29 positive samples.\n",
        "The number 29 in the bottom-right corner represents the number of true positives (TP). The model correctly predicted 29 samples as positive out of a total of 29 positive samples.\n"
      ],
      "metadata": {
        "id": "jjMct85GBLmL"
      }
    },
    {
      "cell_type": "markdown",
      "metadata": {
        "id": "2eRA0ghwZFaO"
      },
      "source": [
        "# **Conclusion**\n",
        "\n",
        "\n",
        "\n",
        "In conclusion, the confusion matrix [[0 136] [0 29]] shows that the model is completely ineffective. Out of 29 positive samples in the dataset, it only properly recognised 29 positive samples and 0 negative samples. The model's high rate of false positives shows that it frequently misclassifies data as positive even when they are negative. In any event, the model needs to be significantly improved before it can be used to this dataset to make predictions.\n",
        "Here,model is created with four selected features ,so the model is not performing well.If you select more  number of features for creating model,the performance will definitely increased. I\n",
        "**Future Enhancments**\n",
        "Model will create with KNN algoritm and test the accuracy and do some data exploration to find increase features to be selected for the model creation.\n",
        "\n"
      ]
    },
    {
      "cell_type": "markdown",
      "metadata": {
        "id": "riNi7y8Vsnbg"
      },
      "source": [
        "**REFERENCES**\n",
        "\n",
        "\n",
        "1.https://www.kaggle.com/competitions/customer-churn-prediction-2020/data?select=train.csv\n",
        "2.https://towardsdatascience.com/dealing-with-imbalanced-data-in-churn-analysis-6ea1afba8b5e"
      ]
    }
  ],
  "metadata": {
    "colab": {
      "provenance": [],
      "include_colab_link": true
    },
    "kernelspec": {
      "display_name": "Python 3",
      "name": "python3"
    },
    "language_info": {
      "name": "python"
    }
  },
  "nbformat": 4,
  "nbformat_minor": 0
}