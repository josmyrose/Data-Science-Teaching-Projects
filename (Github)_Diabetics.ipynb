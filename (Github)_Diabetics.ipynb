{
  "nbformat": 4,
  "nbformat_minor": 0,
  "metadata": {
    "colab": {
      "provenance": [],
      "mount_file_id": "15uonfTWiwtTpqypoSX-RJ7dL4_-0k6bG",
      "authorship_tag": "ABX9TyMf1MHdJZhMQNY4FgnzsNeH",
      "include_colab_link": true
    },
    "kernelspec": {
      "name": "python3",
      "display_name": "Python 3"
    },
    "language_info": {
      "name": "python"
    }
  },
  "cells": [
    {
      "cell_type": "markdown",
      "metadata": {
        "id": "view-in-github",
        "colab_type": "text"
      },
      "source": [
        "<a href=\"https://colab.research.google.com/github/josmyrose/Data-Science-Teaching-Projects/blob/main/(Github)_Diabetics.ipynb\" target=\"_parent\"><img src=\"https://colab.research.google.com/assets/colab-badge.svg\" alt=\"Open In Colab\"/></a>"
      ]
    },
    {
      "cell_type": "markdown",
      "source": [
        "**Learning Outcomes:**\n",
        "\n",
        "By completing this project, students will be able to:\n",
        "\n",
        "\n",
        "\n",
        "1.   Import, clean, and manipulate health survey data using Python.\n",
        "\n",
        "2.   Apply descriptive statistics and visualization to explore data patterns.\n",
        "\n",
        "\n",
        "1.   Identify key predictors and correlations for health outcomes (diabetes).\n",
        "\n",
        "\n",
        "2.   Interpret analytical results in a public health and policy context.\n",
        "\n",
        "1.   Communicate findings effectively through plots and data summaries.\n",
        "\n",
        "\n",
        "\n",
        "\n",
        "\n"
      ],
      "metadata": {
        "id": "3LOLiBKd3KKu"
      }
    },
    {
      "cell_type": "markdown",
      "source": [
        "# Business Problem and statement"
      ],
      "metadata": {
        "id": "CEGV5zJKYc2d"
      }
    },
    {
      "cell_type": "markdown",
      "source": [
        "Diabetes affects millions of Americans each year, making it one of the most common chronic diseases in the country and putting a significant financial strain on the economy."
      ],
      "metadata": {
        "id": "AfBvbsobXZAg"
      }
    },
    {
      "cell_type": "markdown",
      "source": [
        "The organisation is  ***The Centers for Disease Control and Prevention in the United States. ***\n",
        "Data Collection:\n",
        "The Behavioral Risk Factor Surveillance System (BRFSS) is an annual telephone survey conducted by the Centers for Disease Control and Prevention (CDC).\n",
        "\n"
      ],
      "metadata": {
        "id": "OYf2Vy-kX0cc"
      }
    },
    {
      "cell_type": "markdown",
      "source": [
        "# Business Questions"
      ],
      "metadata": {
        "id": "3v3idGKBZEZR"
      }
    },
    {
      "cell_type": "markdown",
      "source": [
        "\n",
        "---\n",
        "\n",
        "\n",
        "1.How many females having diabetics and what are the factors affecting person to be a diabetic.\n",
        "\n",
        "---\n",
        "\n",
        "\n",
        "2.Does the age of a person affecting having diabetics or not?\n",
        "\n",
        "---\n",
        "\n",
        "\n",
        "3.If the peron is having physical health and good food habits*( consider veggies or fruits)What is the current status of person having diabetics or not diabetics?\n",
        "\n",
        "4.If the peron is smoker and having heartdisease ,What is the current status of person having diabetics or not diabetics?\n"
      ],
      "metadata": {
        "id": "GugXVTD3ZQgd"
      }
    },
    {
      "cell_type": "markdown",
      "source": [
        "Import neccessary libraries"
      ],
      "metadata": {
        "id": "7Pa8D4NsZUBN"
      }
    },
    {
      "cell_type": "code",
      "execution_count": null,
      "metadata": {
        "id": "hh4CXdxW3A0N"
      },
      "outputs": [],
      "source": [
        "import pandas as pd#importing pandas library to work with dataframes\n",
        "import numpy as np  # import numpy library to do some calculation on numerical values\n",
        "import matplotlib.pyplot as plt #matplotlib is used for visualising\n",
        "import seaborn as sns #Python data visualization library based on matplotlib,provide high level interface for drawing attractive and informative statistical graph"
      ]
    },
    {
      "cell_type": "markdown",
      "source": [
        "**Dataset Loading**\n",
        "\n",
        "---\n",
        "\n",
        "\n",
        "\n",
        "Load the csv file into python environment.\n",
        "\n",
        "---\n"
      ],
      "metadata": {
        "id": "zkEhYmNN5Fmr"
      }
    },
    {
      "cell_type": "code",
      "source": [
        "dbf1=pd.read_csv(\"/content/drive/MyDrive/AI and application Assignment/diabetes_binary_5050split_health_indicators_BRFSS2015.csv\")# dataset loaded into python environment."
      ],
      "metadata": {
        "id": "ozxYqA7JTZzu"
      },
      "execution_count": null,
      "outputs": []
    },
    {
      "cell_type": "markdown",
      "source": [
        "Diabetes_binary_5050split_health_indicators_BRFSS2015.csv is a clean dataset of 70,692 BRFSS2015 survey responses. It has a 50-50 split of respondents who have no diabetes and those who have diabetes. Diabetes binary is divided into two classes. A score of 0 indicates no diabetes, while a score of 1 indicates  diabetes. This balanced dataset has 21 feature variables."
      ],
      "metadata": {
        "id": "_f0DoPz3v-9m"
      }
    },
    {
      "cell_type": "markdown",
      "source": [
        "# Detailed description about columns in the dataset.\n",
        "Diabetes_binary : you have diabetes (0,1)\n",
        "\n",
        "HighBP : Adults who have been told they have high blood pressure by a doctor, nurse, or other health professional (0,1)\n",
        "\n",
        "HighChol : Have you EVER been told by a doctor, nurse or other health professional that your blood cholesterol is high? (0,1)\n",
        "\n",
        "CholCheck : Cholesterol check within past five years (0,1)\n",
        "\n",
        "BMI : Body Mass Index (BMI)\n",
        "\n",
        "Smoker : Have you smoked at least 100 cigarettes in your entire life? [Note: 5 packs = 100 cigarettes] (0,1)\n",
        "\n",
        "Stroke : (Ever told) you had a stroke. (0,1)\n",
        "\n",
        "HeartDiseaseorAttack : Respondents that have ever reported having coronary heart disease (CHD) or myocardial infarction (MI) (0,1)\n",
        "\n",
        "PhysActivity : Adults who reported doing physical activity or exercise during the past 30 days other than their regular job (0,1)\n",
        "\n",
        "Fruits : Consume Fruit 1 or more times per day (0,1)\n",
        "\n",
        "Veggies : Consume Vegetables 1 or more times per day (0,1)\n",
        "\n",
        "HvyAlcoholConsump : Heavy drinkers (adult men having more than 14 drinks per week and adult women having more than 7 drinks per week)(0,1)\n",
        "\n",
        "AnyHealthcare : Do you have any kind of health care coverage, including health insurance, prepaid plans such as HMOs, or government plans such as Medicare, or Indian Health Service? (0,1)\n",
        "\n",
        "NoDocbcCost : Was there a time in the past 12 months when you needed to see a doctor but could not because of cost? (0,1)\n",
        "\n",
        "GenHlth : Would you say that in general your health is: rate (1 ~ 5)\n",
        "\n",
        "MentHlth : Now thinking about your mental health, which includes stress, depression, and problems with emotions, for how many days during the past 30 days was your mental health not good? (0 ~ 30)\n",
        "\n",
        "PhysHlth : Now thinking about your physical health, which includes physical illness and injury, for how many days during the past 30 days was your physical health not good? (0 ~ 30)\n",
        "\n",
        "DiffWalk : Do you have serious difficulty walking or climbing stairs? (0,1)\n",
        "\n",
        "Sex : Indicate sex of respondent (0,1) (Female or Male)\n",
        "\n",
        "Age : Fourteen-level age category (1 ~ 14)\n",
        "\n",
        "Education : What is the highest grade or year of school you completed? (1 ~ 6)\n",
        "\n",
        "Income : Is your annual household income from all sources: (If respondent refuses at any income level, code \"Refused.\") (1 ~ 8)"
      ],
      "metadata": {
        "id": "App6dVhw0Il3"
      }
    },
    {
      "cell_type": "markdown",
      "source": [
        "\n",
        "# **Examining the dataset**\n",
        "\n"
      ],
      "metadata": {
        "id": "v8UzarsXN1_x"
      }
    },
    {
      "cell_type": "code",
      "source": [
        "#here the function primary is defined.\n",
        "def primary():\n",
        "  print(\"The size of the dataset\",dbf1.shape)#70692 rows and 22 columns  in this dataset\n",
        "  print(\"-------------------------------------------------\")\n",
        "  print(\"The Datatype of columns\\n {} of the dataset\\n\".format(dbf1.dtypes))#datatypes of all columns\n",
        "  print(\"-------------------------------------------------\")\n",
        "  print(\"Display first five rows of the dataset\\n\",dbf1.head(5))#Display first five rows from the dataset,to know the values of the dataset.\n",
        "  print(\"-------------------------------------------------\")\n",
        "  print(\"Information about dataset\".format(dbf1.info()))#The complete information about the dataset\n",
        "  print(\"\\n-------------------------------------------------\\n\")\n",
        ""
      ],
      "metadata": {
        "id": "WqNJ9KhuTZfc"
      },
      "execution_count": null,
      "outputs": []
    },
    {
      "cell_type": "code",
      "source": [
        "primary() #function call"
      ],
      "metadata": {
        "colab": {
          "base_uri": "https://localhost:8080/"
        },
        "id": "uyci3s6ENeTu",
        "outputId": "49d9370c-4f0f-4a60-b768-397765fd130c"
      },
      "execution_count": null,
      "outputs": [
        {
          "output_type": "stream",
          "name": "stdout",
          "text": [
            "The size of the dataset (70692, 22)\n",
            "-------------------------------------------------\n",
            "The Datatype of columns\n",
            " Diabetes_binary         float64\n",
            "HighBP                  float64\n",
            "HighChol                float64\n",
            "CholCheck               float64\n",
            "BMI                     float64\n",
            "Smoker                  float64\n",
            "Stroke                  float64\n",
            "HeartDiseaseorAttack    float64\n",
            "PhysActivity            float64\n",
            "Fruits                  float64\n",
            "Veggies                 float64\n",
            "HvyAlcoholConsump       float64\n",
            "AnyHealthcare           float64\n",
            "NoDocbcCost             float64\n",
            "GenHlth                 float64\n",
            "MentHlth                float64\n",
            "PhysHlth                float64\n",
            "DiffWalk                float64\n",
            "Sex                     float64\n",
            "Age                     float64\n",
            "Education               float64\n",
            "Income                  float64\n",
            "dtype: object of the dataset\n",
            "\n",
            "-------------------------------------------------\n",
            "Display first five rows of the dataset\n",
            "    Diabetes_binary  HighBP  HighChol  CholCheck   BMI  Smoker  Stroke  \\\n",
            "0              0.0     1.0       0.0        1.0  26.0     0.0     0.0   \n",
            "1              0.0     1.0       1.0        1.0  26.0     1.0     1.0   \n",
            "2              0.0     0.0       0.0        1.0  26.0     0.0     0.0   \n",
            "3              0.0     1.0       1.0        1.0  28.0     1.0     0.0   \n",
            "4              0.0     0.0       0.0        1.0  29.0     1.0     0.0   \n",
            "\n",
            "   HeartDiseaseorAttack  PhysActivity  Fruits  ...  AnyHealthcare  \\\n",
            "0                   0.0           1.0     0.0  ...            1.0   \n",
            "1                   0.0           0.0     1.0  ...            1.0   \n",
            "2                   0.0           1.0     1.0  ...            1.0   \n",
            "3                   0.0           1.0     1.0  ...            1.0   \n",
            "4                   0.0           1.0     1.0  ...            1.0   \n",
            "\n",
            "   NoDocbcCost  GenHlth  MentHlth  PhysHlth  DiffWalk  Sex   Age  Education  \\\n",
            "0          0.0      3.0       5.0      30.0       0.0  1.0   4.0        6.0   \n",
            "1          0.0      3.0       0.0       0.0       0.0  1.0  12.0        6.0   \n",
            "2          0.0      1.0       0.0      10.0       0.0  1.0  13.0        6.0   \n",
            "3          0.0      3.0       0.0       3.0       0.0  1.0  11.0        6.0   \n",
            "4          0.0      2.0       0.0       0.0       0.0  0.0   8.0        5.0   \n",
            "\n",
            "   Income  \n",
            "0     8.0  \n",
            "1     8.0  \n",
            "2     8.0  \n",
            "3     8.0  \n",
            "4     8.0  \n",
            "\n",
            "[5 rows x 22 columns]\n",
            "-------------------------------------------------\n",
            "<class 'pandas.core.frame.DataFrame'>\n",
            "RangeIndex: 70692 entries, 0 to 70691\n",
            "Data columns (total 22 columns):\n",
            " #   Column                Non-Null Count  Dtype  \n",
            "---  ------                --------------  -----  \n",
            " 0   Diabetes_binary       70692 non-null  float64\n",
            " 1   HighBP                70692 non-null  float64\n",
            " 2   HighChol              70692 non-null  float64\n",
            " 3   CholCheck             70692 non-null  float64\n",
            " 4   BMI                   70692 non-null  float64\n",
            " 5   Smoker                70692 non-null  float64\n",
            " 6   Stroke                70692 non-null  float64\n",
            " 7   HeartDiseaseorAttack  70692 non-null  float64\n",
            " 8   PhysActivity          70692 non-null  float64\n",
            " 9   Fruits                70692 non-null  float64\n",
            " 10  Veggies               70692 non-null  float64\n",
            " 11  HvyAlcoholConsump     70692 non-null  float64\n",
            " 12  AnyHealthcare         70692 non-null  float64\n",
            " 13  NoDocbcCost           70692 non-null  float64\n",
            " 14  GenHlth               70692 non-null  float64\n",
            " 15  MentHlth              70692 non-null  float64\n",
            " 16  PhysHlth              70692 non-null  float64\n",
            " 17  DiffWalk              70692 non-null  float64\n",
            " 18  Sex                   70692 non-null  float64\n",
            " 19  Age                   70692 non-null  float64\n",
            " 20  Education             70692 non-null  float64\n",
            " 21  Income                70692 non-null  float64\n",
            "dtypes: float64(22)\n",
            "memory usage: 11.9 MB\n",
            "Information about dataset\n",
            "\n",
            "-------------------------------------------------\n",
            "\n"
          ]
        }
      ]
    },
    {
      "cell_type": "markdown",
      "source": [
        "               \n",
        "The dataset is a diabetics health dataset.It has 70692 rows and 22 columns(features).**Diabetes_binary** is one of the fields in the dataset,which is treated as outcome varible.It has two values 0 and 1.If the value is zero,it indicates that the person does not have diabetics and If the value is one,it indicates that the person have diabetics.Datatype of all columns are float type.The above result also display the first five rows of dataset and get an idea about the data in the dataset.The columns Diabetes_binary,HighBP,    HighChol,Smoker,CholCheck,Smoker,Stroke,HeartDiseaseorAttack,PhysActivity,     Fruits,Veggies,HvyAlcoholConsump and Sex    are only two values either 0 or 1. For example HighChol column in the dataset means that if the person is having high cholestrol,its value is one,otherwise it value is zero.         \n",
        "The age indicated in this dataset as different group such as group1 indicates the number of people in the age between 18 and 24 and son."
      ],
      "metadata": {
        "id": "sDcacDRLebFz"
      }
    },
    {
      "cell_type": "markdown",
      "source": [
        "**Conversion of datatype float into int**"
      ],
      "metadata": {
        "id": "IFH1A0HHaXoG"
      }
    },
    {
      "cell_type": "markdown",
      "source": [
        "Datatype of columnns are float.\n",
        "Convert datatype **float** into **int**.\n",
        "Manipulation of dataset is easy with integer values and normally Age is specified as integer."
      ],
      "metadata": {
        "id": "SYuY3xv6EYPu"
      }
    },
    {
      "cell_type": "code",
      "source": [
        "dbf2=dbf1.astype(int).copy()#copy the dataset dbf1 into dbf2 with datatypes of column as int"
      ],
      "metadata": {
        "id": "v2RVYRZgEjSL"
      },
      "execution_count": null,
      "outputs": []
    },
    {
      "cell_type": "markdown",
      "source": [
        "Display the datatype of column."
      ],
      "metadata": {
        "id": "nbr4MNvfaz2q"
      }
    },
    {
      "cell_type": "code",
      "source": [
        "dbf2.dtypes#checking the datatype of columns"
      ],
      "metadata": {
        "colab": {
          "base_uri": "https://localhost:8080/"
        },
        "id": "rxe-ebv_HpxC",
        "outputId": "1a838014-1380-4991-cf79-f618e4df5c33"
      },
      "execution_count": null,
      "outputs": [
        {
          "output_type": "execute_result",
          "data": {
            "text/plain": [
              "Diabetes_binary         int64\n",
              "HighBP                  int64\n",
              "HighChol                int64\n",
              "CholCheck               int64\n",
              "BMI                     int64\n",
              "Smoker                  int64\n",
              "Stroke                  int64\n",
              "HeartDiseaseorAttack    int64\n",
              "PhysActivity            int64\n",
              "Fruits                  int64\n",
              "Veggies                 int64\n",
              "HvyAlcoholConsump       int64\n",
              "AnyHealthcare           int64\n",
              "NoDocbcCost             int64\n",
              "GenHlth                 int64\n",
              "MentHlth                int64\n",
              "PhysHlth                int64\n",
              "DiffWalk                int64\n",
              "Sex                     int64\n",
              "Age                     int64\n",
              "Education               int64\n",
              "Income                  int64\n",
              "dtype: object"
            ]
          },
          "metadata": {},
          "execution_count": 7
        }
      ]
    },
    {
      "cell_type": "markdown",
      "source": [
        "Here converted all columns float datatype into integer ttpe."
      ],
      "metadata": {
        "id": "Nx_RO0nXlk2r"
      }
    },
    {
      "cell_type": "markdown",
      "source": [
        "Summary of Dataset"
      ],
      "metadata": {
        "id": "k1X5L3i6gtJ4"
      }
    },
    {
      "cell_type": "code",
      "source": [
        "# generates descriptive statistics of a DataFrame dbf2\n",
        "dbf2.describe()"
      ],
      "metadata": {
        "colab": {
          "base_uri": "https://localhost:8080/",
          "height": 393
        },
        "id": "jvsR2193gsmZ",
        "outputId": "49984e2b-87c2-4f57-8408-50e11fd6d07f"
      },
      "execution_count": null,
      "outputs": [
        {
          "output_type": "execute_result",
          "data": {
            "text/plain": [
              "       Diabetes_binary        HighBP      HighChol     CholCheck  \\\n",
              "count     70692.000000  70692.000000  70692.000000  70692.000000   \n",
              "mean          0.500000      0.563458      0.525703      0.975259   \n",
              "std           0.500004      0.495960      0.499342      0.155336   \n",
              "min           0.000000      0.000000      0.000000      0.000000   \n",
              "25%           0.000000      0.000000      0.000000      1.000000   \n",
              "50%           0.500000      1.000000      1.000000      1.000000   \n",
              "75%           1.000000      1.000000      1.000000      1.000000   \n",
              "max           1.000000      1.000000      1.000000      1.000000   \n",
              "\n",
              "                BMI        Smoker        Stroke  HeartDiseaseorAttack  \\\n",
              "count  70692.000000  70692.000000  70692.000000          70692.000000   \n",
              "mean      29.856985      0.475273      0.062171              0.147810   \n",
              "std        7.113954      0.499392      0.241468              0.354914   \n",
              "min       12.000000      0.000000      0.000000              0.000000   \n",
              "25%       25.000000      0.000000      0.000000              0.000000   \n",
              "50%       29.000000      0.000000      0.000000              0.000000   \n",
              "75%       33.000000      1.000000      0.000000              0.000000   \n",
              "max       98.000000      1.000000      1.000000              1.000000   \n",
              "\n",
              "       PhysActivity        Fruits  ...  AnyHealthcare   NoDocbcCost  \\\n",
              "count  70692.000000  70692.000000  ...   70692.000000  70692.000000   \n",
              "mean       0.703036      0.611795  ...       0.954960      0.093914   \n",
              "std        0.456924      0.487345  ...       0.207394      0.291712   \n",
              "min        0.000000      0.000000  ...       0.000000      0.000000   \n",
              "25%        0.000000      0.000000  ...       1.000000      0.000000   \n",
              "50%        1.000000      1.000000  ...       1.000000      0.000000   \n",
              "75%        1.000000      1.000000  ...       1.000000      0.000000   \n",
              "max        1.000000      1.000000  ...       1.000000      1.000000   \n",
              "\n",
              "            GenHlth      MentHlth      PhysHlth      DiffWalk           Sex  \\\n",
              "count  70692.000000  70692.000000  70692.000000  70692.000000  70692.000000   \n",
              "mean       2.837082      3.752037      5.810417      0.252730      0.456997   \n",
              "std        1.113565      8.155627     10.062261      0.434581      0.498151   \n",
              "min        1.000000      0.000000      0.000000      0.000000      0.000000   \n",
              "25%        2.000000      0.000000      0.000000      0.000000      0.000000   \n",
              "50%        3.000000      0.000000      0.000000      0.000000      0.000000   \n",
              "75%        4.000000      2.000000      6.000000      1.000000      1.000000   \n",
              "max        5.000000     30.000000     30.000000      1.000000      1.000000   \n",
              "\n",
              "                Age     Education        Income  \n",
              "count  70692.000000  70692.000000  70692.000000  \n",
              "mean       8.584055      4.920953      5.698311  \n",
              "std        2.852153      1.029081      2.175196  \n",
              "min        1.000000      1.000000      1.000000  \n",
              "25%        7.000000      4.000000      4.000000  \n",
              "50%        9.000000      5.000000      6.000000  \n",
              "75%       11.000000      6.000000      8.000000  \n",
              "max       13.000000      6.000000      8.000000  \n",
              "\n",
              "[8 rows x 22 columns]"
            ],
            "text/html": [
              "\n",
              "  <div id=\"df-177531a0-a314-47bb-a4b7-9883bb8346e5\">\n",
              "    <div class=\"colab-df-container\">\n",
              "      <div>\n",
              "<style scoped>\n",
              "    .dataframe tbody tr th:only-of-type {\n",
              "        vertical-align: middle;\n",
              "    }\n",
              "\n",
              "    .dataframe tbody tr th {\n",
              "        vertical-align: top;\n",
              "    }\n",
              "\n",
              "    .dataframe thead th {\n",
              "        text-align: right;\n",
              "    }\n",
              "</style>\n",
              "<table border=\"1\" class=\"dataframe\">\n",
              "  <thead>\n",
              "    <tr style=\"text-align: right;\">\n",
              "      <th></th>\n",
              "      <th>Diabetes_binary</th>\n",
              "      <th>HighBP</th>\n",
              "      <th>HighChol</th>\n",
              "      <th>CholCheck</th>\n",
              "      <th>BMI</th>\n",
              "      <th>Smoker</th>\n",
              "      <th>Stroke</th>\n",
              "      <th>HeartDiseaseorAttack</th>\n",
              "      <th>PhysActivity</th>\n",
              "      <th>Fruits</th>\n",
              "      <th>...</th>\n",
              "      <th>AnyHealthcare</th>\n",
              "      <th>NoDocbcCost</th>\n",
              "      <th>GenHlth</th>\n",
              "      <th>MentHlth</th>\n",
              "      <th>PhysHlth</th>\n",
              "      <th>DiffWalk</th>\n",
              "      <th>Sex</th>\n",
              "      <th>Age</th>\n",
              "      <th>Education</th>\n",
              "      <th>Income</th>\n",
              "    </tr>\n",
              "  </thead>\n",
              "  <tbody>\n",
              "    <tr>\n",
              "      <th>count</th>\n",
              "      <td>70692.000000</td>\n",
              "      <td>70692.000000</td>\n",
              "      <td>70692.000000</td>\n",
              "      <td>70692.000000</td>\n",
              "      <td>70692.000000</td>\n",
              "      <td>70692.000000</td>\n",
              "      <td>70692.000000</td>\n",
              "      <td>70692.000000</td>\n",
              "      <td>70692.000000</td>\n",
              "      <td>70692.000000</td>\n",
              "      <td>...</td>\n",
              "      <td>70692.000000</td>\n",
              "      <td>70692.000000</td>\n",
              "      <td>70692.000000</td>\n",
              "      <td>70692.000000</td>\n",
              "      <td>70692.000000</td>\n",
              "      <td>70692.000000</td>\n",
              "      <td>70692.000000</td>\n",
              "      <td>70692.000000</td>\n",
              "      <td>70692.000000</td>\n",
              "      <td>70692.000000</td>\n",
              "    </tr>\n",
              "    <tr>\n",
              "      <th>mean</th>\n",
              "      <td>0.500000</td>\n",
              "      <td>0.563458</td>\n",
              "      <td>0.525703</td>\n",
              "      <td>0.975259</td>\n",
              "      <td>29.856985</td>\n",
              "      <td>0.475273</td>\n",
              "      <td>0.062171</td>\n",
              "      <td>0.147810</td>\n",
              "      <td>0.703036</td>\n",
              "      <td>0.611795</td>\n",
              "      <td>...</td>\n",
              "      <td>0.954960</td>\n",
              "      <td>0.093914</td>\n",
              "      <td>2.837082</td>\n",
              "      <td>3.752037</td>\n",
              "      <td>5.810417</td>\n",
              "      <td>0.252730</td>\n",
              "      <td>0.456997</td>\n",
              "      <td>8.584055</td>\n",
              "      <td>4.920953</td>\n",
              "      <td>5.698311</td>\n",
              "    </tr>\n",
              "    <tr>\n",
              "      <th>std</th>\n",
              "      <td>0.500004</td>\n",
              "      <td>0.495960</td>\n",
              "      <td>0.499342</td>\n",
              "      <td>0.155336</td>\n",
              "      <td>7.113954</td>\n",
              "      <td>0.499392</td>\n",
              "      <td>0.241468</td>\n",
              "      <td>0.354914</td>\n",
              "      <td>0.456924</td>\n",
              "      <td>0.487345</td>\n",
              "      <td>...</td>\n",
              "      <td>0.207394</td>\n",
              "      <td>0.291712</td>\n",
              "      <td>1.113565</td>\n",
              "      <td>8.155627</td>\n",
              "      <td>10.062261</td>\n",
              "      <td>0.434581</td>\n",
              "      <td>0.498151</td>\n",
              "      <td>2.852153</td>\n",
              "      <td>1.029081</td>\n",
              "      <td>2.175196</td>\n",
              "    </tr>\n",
              "    <tr>\n",
              "      <th>min</th>\n",
              "      <td>0.000000</td>\n",
              "      <td>0.000000</td>\n",
              "      <td>0.000000</td>\n",
              "      <td>0.000000</td>\n",
              "      <td>12.000000</td>\n",
              "      <td>0.000000</td>\n",
              "      <td>0.000000</td>\n",
              "      <td>0.000000</td>\n",
              "      <td>0.000000</td>\n",
              "      <td>0.000000</td>\n",
              "      <td>...</td>\n",
              "      <td>0.000000</td>\n",
              "      <td>0.000000</td>\n",
              "      <td>1.000000</td>\n",
              "      <td>0.000000</td>\n",
              "      <td>0.000000</td>\n",
              "      <td>0.000000</td>\n",
              "      <td>0.000000</td>\n",
              "      <td>1.000000</td>\n",
              "      <td>1.000000</td>\n",
              "      <td>1.000000</td>\n",
              "    </tr>\n",
              "    <tr>\n",
              "      <th>25%</th>\n",
              "      <td>0.000000</td>\n",
              "      <td>0.000000</td>\n",
              "      <td>0.000000</td>\n",
              "      <td>1.000000</td>\n",
              "      <td>25.000000</td>\n",
              "      <td>0.000000</td>\n",
              "      <td>0.000000</td>\n",
              "      <td>0.000000</td>\n",
              "      <td>0.000000</td>\n",
              "      <td>0.000000</td>\n",
              "      <td>...</td>\n",
              "      <td>1.000000</td>\n",
              "      <td>0.000000</td>\n",
              "      <td>2.000000</td>\n",
              "      <td>0.000000</td>\n",
              "      <td>0.000000</td>\n",
              "      <td>0.000000</td>\n",
              "      <td>0.000000</td>\n",
              "      <td>7.000000</td>\n",
              "      <td>4.000000</td>\n",
              "      <td>4.000000</td>\n",
              "    </tr>\n",
              "    <tr>\n",
              "      <th>50%</th>\n",
              "      <td>0.500000</td>\n",
              "      <td>1.000000</td>\n",
              "      <td>1.000000</td>\n",
              "      <td>1.000000</td>\n",
              "      <td>29.000000</td>\n",
              "      <td>0.000000</td>\n",
              "      <td>0.000000</td>\n",
              "      <td>0.000000</td>\n",
              "      <td>1.000000</td>\n",
              "      <td>1.000000</td>\n",
              "      <td>...</td>\n",
              "      <td>1.000000</td>\n",
              "      <td>0.000000</td>\n",
              "      <td>3.000000</td>\n",
              "      <td>0.000000</td>\n",
              "      <td>0.000000</td>\n",
              "      <td>0.000000</td>\n",
              "      <td>0.000000</td>\n",
              "      <td>9.000000</td>\n",
              "      <td>5.000000</td>\n",
              "      <td>6.000000</td>\n",
              "    </tr>\n",
              "    <tr>\n",
              "      <th>75%</th>\n",
              "      <td>1.000000</td>\n",
              "      <td>1.000000</td>\n",
              "      <td>1.000000</td>\n",
              "      <td>1.000000</td>\n",
              "      <td>33.000000</td>\n",
              "      <td>1.000000</td>\n",
              "      <td>0.000000</td>\n",
              "      <td>0.000000</td>\n",
              "      <td>1.000000</td>\n",
              "      <td>1.000000</td>\n",
              "      <td>...</td>\n",
              "      <td>1.000000</td>\n",
              "      <td>0.000000</td>\n",
              "      <td>4.000000</td>\n",
              "      <td>2.000000</td>\n",
              "      <td>6.000000</td>\n",
              "      <td>1.000000</td>\n",
              "      <td>1.000000</td>\n",
              "      <td>11.000000</td>\n",
              "      <td>6.000000</td>\n",
              "      <td>8.000000</td>\n",
              "    </tr>\n",
              "    <tr>\n",
              "      <th>max</th>\n",
              "      <td>1.000000</td>\n",
              "      <td>1.000000</td>\n",
              "      <td>1.000000</td>\n",
              "      <td>1.000000</td>\n",
              "      <td>98.000000</td>\n",
              "      <td>1.000000</td>\n",
              "      <td>1.000000</td>\n",
              "      <td>1.000000</td>\n",
              "      <td>1.000000</td>\n",
              "      <td>1.000000</td>\n",
              "      <td>...</td>\n",
              "      <td>1.000000</td>\n",
              "      <td>1.000000</td>\n",
              "      <td>5.000000</td>\n",
              "      <td>30.000000</td>\n",
              "      <td>30.000000</td>\n",
              "      <td>1.000000</td>\n",
              "      <td>1.000000</td>\n",
              "      <td>13.000000</td>\n",
              "      <td>6.000000</td>\n",
              "      <td>8.000000</td>\n",
              "    </tr>\n",
              "  </tbody>\n",
              "</table>\n",
              "<p>8 rows × 22 columns</p>\n",
              "</div>\n",
              "      <button class=\"colab-df-convert\" onclick=\"convertToInteractive('df-177531a0-a314-47bb-a4b7-9883bb8346e5')\"\n",
              "              title=\"Convert this dataframe to an interactive table.\"\n",
              "              style=\"display:none;\">\n",
              "        \n",
              "  <svg xmlns=\"http://www.w3.org/2000/svg\" height=\"24px\"viewBox=\"0 0 24 24\"\n",
              "       width=\"24px\">\n",
              "    <path d=\"M0 0h24v24H0V0z\" fill=\"none\"/>\n",
              "    <path d=\"M18.56 5.44l.94 2.06.94-2.06 2.06-.94-2.06-.94-.94-2.06-.94 2.06-2.06.94zm-11 1L8.5 8.5l.94-2.06 2.06-.94-2.06-.94L8.5 2.5l-.94 2.06-2.06.94zm10 10l.94 2.06.94-2.06 2.06-.94-2.06-.94-.94-2.06-.94 2.06-2.06.94z\"/><path d=\"M17.41 7.96l-1.37-1.37c-.4-.4-.92-.59-1.43-.59-.52 0-1.04.2-1.43.59L10.3 9.45l-7.72 7.72c-.78.78-.78 2.05 0 2.83L4 21.41c.39.39.9.59 1.41.59.51 0 1.02-.2 1.41-.59l7.78-7.78 2.81-2.81c.8-.78.8-2.07 0-2.86zM5.41 20L4 18.59l7.72-7.72 1.47 1.35L5.41 20z\"/>\n",
              "  </svg>\n",
              "      </button>\n",
              "      \n",
              "  <style>\n",
              "    .colab-df-container {\n",
              "      display:flex;\n",
              "      flex-wrap:wrap;\n",
              "      gap: 12px;\n",
              "    }\n",
              "\n",
              "    .colab-df-convert {\n",
              "      background-color: #E8F0FE;\n",
              "      border: none;\n",
              "      border-radius: 50%;\n",
              "      cursor: pointer;\n",
              "      display: none;\n",
              "      fill: #1967D2;\n",
              "      height: 32px;\n",
              "      padding: 0 0 0 0;\n",
              "      width: 32px;\n",
              "    }\n",
              "\n",
              "    .colab-df-convert:hover {\n",
              "      background-color: #E2EBFA;\n",
              "      box-shadow: 0px 1px 2px rgba(60, 64, 67, 0.3), 0px 1px 3px 1px rgba(60, 64, 67, 0.15);\n",
              "      fill: #174EA6;\n",
              "    }\n",
              "\n",
              "    [theme=dark] .colab-df-convert {\n",
              "      background-color: #3B4455;\n",
              "      fill: #D2E3FC;\n",
              "    }\n",
              "\n",
              "    [theme=dark] .colab-df-convert:hover {\n",
              "      background-color: #434B5C;\n",
              "      box-shadow: 0px 1px 3px 1px rgba(0, 0, 0, 0.15);\n",
              "      filter: drop-shadow(0px 1px 2px rgba(0, 0, 0, 0.3));\n",
              "      fill: #FFFFFF;\n",
              "    }\n",
              "  </style>\n",
              "\n",
              "      <script>\n",
              "        const buttonEl =\n",
              "          document.querySelector('#df-177531a0-a314-47bb-a4b7-9883bb8346e5 button.colab-df-convert');\n",
              "        buttonEl.style.display =\n",
              "          google.colab.kernel.accessAllowed ? 'block' : 'none';\n",
              "\n",
              "        async function convertToInteractive(key) {\n",
              "          const element = document.querySelector('#df-177531a0-a314-47bb-a4b7-9883bb8346e5');\n",
              "          const dataTable =\n",
              "            await google.colab.kernel.invokeFunction('convertToInteractive',\n",
              "                                                     [key], {});\n",
              "          if (!dataTable) return;\n",
              "\n",
              "          const docLinkHtml = 'Like what you see? Visit the ' +\n",
              "            '<a target=\"_blank\" href=https://colab.research.google.com/notebooks/data_table.ipynb>data table notebook</a>'\n",
              "            + ' to learn more about interactive tables.';\n",
              "          element.innerHTML = '';\n",
              "          dataTable['output_type'] = 'display_data';\n",
              "          await google.colab.output.renderOutput(dataTable, element);\n",
              "          const docLink = document.createElement('div');\n",
              "          docLink.innerHTML = docLinkHtml;\n",
              "          element.appendChild(docLink);\n",
              "        }\n",
              "      </script>\n",
              "    </div>\n",
              "  </div>\n",
              "  "
            ]
          },
          "metadata": {},
          "execution_count": 8
        }
      ]
    },
    {
      "cell_type": "markdown",
      "source": [
        "It display the count of non missing values in each column.It displays mean,std,25%,50%,and 75% of the each column.Minimum and maximum values of Diabetes_binary ,HighBP, HighChol,Smoker,CholCheck,Smoker,Stroke,HeartDiseaseorAttack,PhysActivity, Fruits,Veggies,HvyAlcoholConsump and Sex are 0 and 1 respectively.Minimum and maximum values of BMI is 12 and 98 respectively.\n",
        "For example 25%(25 percentile) in the above result means that 25% of values in Fruit column is less than or equal to zero.\n",
        "\n",
        "\n",
        "The above result  mainly used to know about the data distribution."
      ],
      "metadata": {
        "id": "JHUR66P5nIPX"
      }
    },
    {
      "cell_type": "markdown",
      "source": [
        "To check the missing values present in the dataset.\n",
        "There is no missing value present in the dataset.\n",
        "\n",
        "---\n",
        "\n"
      ],
      "metadata": {
        "id": "fkeoUpR_WbIg"
      }
    },
    {
      "cell_type": "code",
      "source": [
        "dbf2.isnull().sum() # disply the count of missing values present in the column."
      ],
      "metadata": {
        "colab": {
          "base_uri": "https://localhost:8080/"
        },
        "id": "gdxju-8PVL1F",
        "outputId": "56797c2d-f794-4ba3-ff27-4a580df7c007"
      },
      "execution_count": null,
      "outputs": [
        {
          "output_type": "execute_result",
          "data": {
            "text/plain": [
              "Diabetes_binary         0\n",
              "HighBP                  0\n",
              "HighChol                0\n",
              "CholCheck               0\n",
              "BMI                     0\n",
              "Smoker                  0\n",
              "Stroke                  0\n",
              "HeartDiseaseorAttack    0\n",
              "PhysActivity            0\n",
              "Fruits                  0\n",
              "Veggies                 0\n",
              "HvyAlcoholConsump       0\n",
              "AnyHealthcare           0\n",
              "NoDocbcCost             0\n",
              "GenHlth                 0\n",
              "MentHlth                0\n",
              "PhysHlth                0\n",
              "DiffWalk                0\n",
              "Sex                     0\n",
              "Age                     0\n",
              "Education               0\n",
              "Income                  0\n",
              "dtype: int64"
            ]
          },
          "metadata": {},
          "execution_count": 9
        }
      ]
    },
    {
      "cell_type": "markdown",
      "source": [
        "In this dataset,there is no null values present.If the dataset contains missing values it will affect the analysis of data."
      ],
      "metadata": {
        "id": "NjjPw2GuW_D9"
      }
    },
    {
      "cell_type": "markdown",
      "source": [
        "To know the number of unique values for each column.\n",
        "\n",
        "---"
      ],
      "metadata": {
        "id": "ZmmPekHZXhqz"
      }
    },
    {
      "cell_type": "code",
      "source": [
        "dbf2.nunique()#display unique values of each column of the dataset."
      ],
      "metadata": {
        "colab": {
          "base_uri": "https://localhost:8080/"
        },
        "id": "wYoACI8yXlPR",
        "outputId": "7b723ed4-7be0-47dd-e0d6-bc78d3da74e5"
      },
      "execution_count": null,
      "outputs": [
        {
          "output_type": "execute_result",
          "data": {
            "text/plain": [
              "Diabetes_binary          2\n",
              "HighBP                   2\n",
              "HighChol                 2\n",
              "CholCheck                2\n",
              "BMI                     80\n",
              "Smoker                   2\n",
              "Stroke                   2\n",
              "HeartDiseaseorAttack     2\n",
              "PhysActivity             2\n",
              "Fruits                   2\n",
              "Veggies                  2\n",
              "HvyAlcoholConsump        2\n",
              "AnyHealthcare            2\n",
              "NoDocbcCost              2\n",
              "GenHlth                  5\n",
              "MentHlth                31\n",
              "PhysHlth                31\n",
              "DiffWalk                 2\n",
              "Sex                      2\n",
              "Age                     13\n",
              "Education                6\n",
              "Income                   8\n",
              "dtype: int64"
            ]
          },
          "metadata": {},
          "execution_count": 10
        }
      ]
    },
    {
      "cell_type": "markdown",
      "source": [
        "Diabetes_binary  has two values.If a person is having diabets,represented by 1.Otherwise it represented by 0.\n",
        "\n",
        "The columns highBP,HighChol,CholCheck,Smoker,Stroke,HeartDiseaseorAttack,PhysActivity,Fruits,Veggies,HvyAlcoholConsump,AnyHealthcare,NoDocbcCost,DiffWalk,Sex  have only two values.BMI(Body Mass Index) has 80 values in this dataset.GenHlth(Genaral Health) have 5 values.The columns MentHlth,PhysHlth,Age,Education and Income have 31,31,13,6 and 8 values."
      ],
      "metadata": {
        "id": "EUL77Itlsj01"
      }
    },
    {
      "cell_type": "markdown",
      "source": [
        "Analyse the female and male participants in this survey.\n",
        "\n",
        "---\n",
        "\n",
        "\n",
        "Here,female participants are 54.34 % and male participants are 45.37%."
      ],
      "metadata": {
        "id": "mHGXheeGeKJk"
      }
    },
    {
      "cell_type": "code",
      "source": [
        "# count the number of female observations\n",
        "female_count = dbf2[dbf2['Sex'] == 0]['Sex'].count()\n",
        "\n",
        "# count the total number of observations\n",
        "total_count = dbf2['Sex'].count()\n",
        "\n",
        "# calculate the percentage of females in the dataset\n",
        "female_percentage = (female_count / total_count) * 100\n",
        "\n",
        "# print the result\n",
        "print('The dataset contains {:.2f}% female observations.'.format(female_percentage))\n",
        "# count the number of male observations\n",
        "male_count = dbf2[dbf2['Sex'] == 1]['Sex'].count()\n",
        "\n",
        "# calculate the percentage of females in the dataset\n",
        "male_percentage = (male_count / total_count) * 100\n",
        "\n",
        "# print the result\n",
        "print('The dataset contains {:.2f}% female observations.'.format(male_percentage))\n",
        "\n"
      ],
      "metadata": {
        "colab": {
          "base_uri": "https://localhost:8080/"
        },
        "id": "zkRCaS7tdmSo",
        "outputId": "d9a97372-72cb-47d0-de3d-b54d824a42db"
      },
      "execution_count": null,
      "outputs": [
        {
          "output_type": "stream",
          "name": "stdout",
          "text": [
            "The dataset contains 54.30% female observations.\n",
            "The dataset contains 45.70% female observations.\n"
          ]
        }
      ]
    },
    {
      "cell_type": "code",
      "source": [
        "# Count the occurrences of each category\n",
        "category_counts = df[['highcol', 'highbp', 'smoker']].apply(pd.Series.value_counts)\n",
        "\n",
        "# Set the categories and their positions\n",
        "categories = category_counts.index\n",
        "positions = np.arange(len(categories))\n",
        "\n",
        "# Create grouped bar chart\n",
        "plt.bar(positions, category_counts['highcol'], label='High Cholesterol')\n",
        "plt.bar(positions, category_counts['highbp'], label='High Blood Pressure')\n",
        "plt.bar(positions, category_counts['smoker'], label='Smoker')\n",
        "\n",
        "# Set labels and title\n",
        "plt.xlabel('Categories')\n",
        "plt.ylabel('Counts')\n",
        "plt.title('Grouped Bar Chart')\n",
        "\n",
        "# Set the x-axis tick positions and labels\n",
        "plt.xticks(positions, categories)\n",
        "\n",
        "# Add legend\n",
        "plt.legend()\n",
        "\n",
        "# Show the plot\n",
        "plt.show()\n",
        "\n",
        "\n"
      ],
      "metadata": {
        "id": "LKvgck35Fr3C"
      },
      "execution_count": null,
      "outputs": []
    },
    {
      "cell_type": "markdown",
      "source": [
        "# **Business questions and its explanation**\n",
        "\n",
        "---\n",
        "\n"
      ],
      "metadata": {
        "id": "kHgPAi0Iz9pc"
      }
    },
    {
      "cell_type": "markdown",
      "source": [
        "# **1.A)How many females having diabetics **"
      ],
      "metadata": {
        "id": "ZAlHGqyQfpx2"
      }
    },
    {
      "cell_type": "code",
      "source": [
        "#To display the count of females having diabetics or not diabetics\n",
        "female = dbf2[dbf2['Sex'] == 0]#copy the dataframe dbf2 to female with only female values\n",
        "print(\" the number female participants having diabetics and no diabetics\",female.groupby('Diabetes_binary')['Age'].size())\n"
      ],
      "metadata": {
        "id": "tQn4aZLRq0wc",
        "colab": {
          "base_uri": "https://localhost:8080/"
        },
        "outputId": "91cf200e-cc5a-4482-846f-c96d3096214b"
      },
      "execution_count": null,
      "outputs": [
        {
          "output_type": "stream",
          "name": "stdout",
          "text": [
            " the number female participants having diabetics and no diabetics Diabetes_binary\n",
            "0    19975\n",
            "1    18411\n",
            "Name: Age, dtype: int64\n"
          ]
        }
      ]
    },
    {
      "cell_type": "markdown",
      "source": [
        "The results show that the number of females who do not have diabetes is 1000 higher than the number of females who do."
      ],
      "metadata": {
        "id": "ghZSjO9K00Pp"
      }
    },
    {
      "cell_type": "markdown",
      "source": [
        "# **1B)What are the factors affect especially female person to be diabetics and if the person follow a good health condition what is the status for a person to be diabetics.**"
      ],
      "metadata": {
        "id": "HI9EBDUYQHLA"
      }
    },
    {
      "cell_type": "markdown",
      "source": [
        "Percentage of people having diabetics with cholestrol,heartattack etc is 7%.\n",
        "Percentage of people having diabetics with PhysActivity,Fruits,Veggies,GenHlth and MentHlth is 0%.\n",
        "The people who follow the physical activity,good eating habits and good mental health does not have diabetics."
      ],
      "metadata": {
        "id": "EvL-bmqrSDl3"
      }
    },
    {
      "cell_type": "code",
      "source": [
        "fe_dai=female[female['Diabetes_binary']==1]#this dataset contains information about female having diabetics\n",
        "#for getting people having HeartDiseaseorAttack,HighBP,HighChol,smoker,Cholcheck\n",
        "fe_da1=fe_dai[ (fe_dai['HeartDiseaseorAttack']==1) & (fe_dai['HighBP']==1) & (fe_dai['HighChol']==1) & (fe_dai['Smoker']==1) & (fe_dai['CholCheck']==1)]\n",
        "\n",
        "#for getting people having PhysActivity,Fruits,Veggies,GenHlth and MentHlth\n",
        "fe_da2=fe_dai[ (fe_dai['PhysActivity']==1) & (fe_dai['Fruits']==1) & (fe_dai['Veggies']==1) & (fe_dai['GenHlth']==1) & (fe_dai['MentHlth']==1) ]\n",
        "\n",
        "#Percentage of people having diabetics with cholestrol,heartattack etc.\n",
        "fedia=len(fe_da1) / len(fe_dai)\n",
        "print(\"Percentage of people having diabetics with cholestrol,heartattack etc {:.2f}\".format(fedia))\n",
        "fedia1=len(fe_da2) / len(fe_dai)\n",
        "print(\"Percentage of people having diabetics with PhysActivity,Fruits,Veggies,GenHlth and MentHlth etc{:.2f}\".format(fedia1))"
      ],
      "metadata": {
        "id": "F8gZ3O-ksrUh",
        "colab": {
          "base_uri": "https://localhost:8080/"
        },
        "outputId": "edd5c394-6de1-4fdd-825c-db3f9d12b8e8"
      },
      "execution_count": null,
      "outputs": [
        {
          "output_type": "stream",
          "name": "stdout",
          "text": [
            "Percentage of people having diabetics with cholestrol,heartattack etc 0.07\n",
            "Percentage of people having diabetics with PhysActivity,Fruits,Veggies,GenHlth and MentHlth etc0.00\n"
          ]
        }
      ]
    },
    {
      "cell_type": "markdown",
      "source": [
        "\n",
        "\n",
        "2.Dose the age affects diabetics of a person?\n",
        "---\n",
        "In this ,I want to analyse total number of a person having diabetics under each age group.Also need to take total number of a person do not having diabetics under each each group.Whether the younger people or aged people having diabetics or not.\n"
      ],
      "metadata": {
        "id": "kkYl0dy9du5j"
      }
    },
    {
      "cell_type": "code",
      "source": [
        "#create a dataframe with age group and count of the people having diabetics and not diabetics\n",
        "\n",
        "ls=[]#create empty list for saving age group\n",
        "cout_diab=[]#list for storing count of people being diabetics under each group.\n",
        "cout_ndiab=[]#list for storing count of people having not diabetics under each group.\n",
        "#for loop  for getting information of all age group\n",
        "for i in range(1,14):\n",
        "  #age group is added to the following list.\n",
        "  ls.append(i)\n",
        "  #return the count of person having daibetics under specific age group\n",
        "  c1=dbf2['Age'][(dbf2['Age']==i) & (dbf2['Diabetes_binary']==1)].count()\n",
        "  #return the count of person having no daibetics under specific age group\n",
        "  c2=dbf2['Age'][(dbf2['Age']==i) & (dbf2['Diabetes_binary']==0)].count()\n",
        "  #total count of person having daibetics under specific age group is added to the list\n",
        "  cout_diab.append(c1)\n",
        "  #total count of person having no daibetics under specific age group is added to the list\n",
        "  cout_ndiab.append(c2)\n",
        "# dictionary of lists\n",
        "#Create dictionary uisng list with dictionary name is dict,\n",
        "#Age is age group of people like from age 18 to 24 come under group 1 and son on\n",
        "#C_diabetics count of person having daibetics under specific age group\n",
        "dict = {'Age': ls, 'C_diabetics': cout_diab,'C_ndiabetics':cout_ndiab }\n",
        "#C_ndiabetics count of person having no daibetics under specific age group is added to the list\n",
        "#creadte a dataframe with name 'sdf' using dictionary\n",
        "sdf=pd.DataFrame(dict)"
      ],
      "metadata": {
        "id": "L47PfNsw1vDZ"
      },
      "execution_count": null,
      "outputs": []
    },
    {
      "cell_type": "code",
      "source": [
        "sns.scatterplot(x='Age',y='C_diabetics',data=sdf)#draw sactterplot with age and people having diabetics\n",
        "sns.scatterplot(x='Age',y='C_ndiabetics',data=sdf)#draw sactterplot with age and people having diabetics\n",
        "plt.title('Scatter plot of Age group and Diabetics')"
      ],
      "metadata": {
        "colab": {
          "base_uri": "https://localhost:8080/",
          "height": 312
        },
        "id": "ycyPUdRF-R4i",
        "outputId": "f5954c8c-0f92-42b8-f2a8-5f74876be5e0"
      },
      "execution_count": null,
      "outputs": [
        {
          "output_type": "execute_result",
          "data": {
            "text/plain": [
              "Text(0.5, 1.0, 'Scatter plot of Age group and Diabetics')"
            ]
          },
          "metadata": {},
          "execution_count": 15
        },
        {
          "output_type": "display_data",
          "data": {
            "text/plain": [
              "<Figure size 432x288 with 1 Axes>"
            ],
            "image/png": "[encoded data removed]"
          },
          "metadata": {
            "needs_background": "light"
          }
        }
      ]
    },
    {
      "cell_type": "markdown",
      "source": [
        "The result indicates that number of people having diabetics is increased from yage group 1 to group 10.The age group 1,2 and 3 show that a constant number of people having diabetiics.From Age group 4 to group 10,there is drastically increased the number of people having diabetics. From group 11 to group 13,there is decreased the number of people having diabetics.\n",
        "\n",
        "The orange dot in the graph shows that number of people do not have diabetics with the age group.From age group 1 to age group 7,the number of people does not have diabetics is more than the number of people having diabetics.The age group 8 has 50% of people having diabetics and not diabetic.The age group 9 to 13 the count is decreased."
      ],
      "metadata": {
        "id": "40Mve9exHJv1"
      }
    },
    {
      "cell_type": "markdown",
      "source": [
        "\n",
        "\n",
        "3.If the peron is having physical health and good food habits*( consider veggies or fruits)What is the current status of person having diabetics?\n",
        "\n",
        "---\n",
        "\n",
        "\n"
      ],
      "metadata": {
        "id": "YRD7qGvcLKuP"
      }
    },
    {
      "cell_type": "code",
      "source": [
        "segmentedf=dbf2[ (dbf2['PhysActivity']==1) & (dbf2['Fruits']==1) & (dbf2['Veggies']==1) & (dbf2['GenHlth']==1) & (dbf2['MentHlth']==1) &  (dbf2['Age']==1) & (dbf2['Diabetes_binary']==1)]\n",
        "print(\"If the peron is having physical health and good food habits*( consider veggies or fruits),having diabetics\",segmentedf.size)"
      ],
      "metadata": {
        "id": "hERVH28WQ-vK",
        "colab": {
          "base_uri": "https://localhost:8080/"
        },
        "outputId": "bd2d390f-ae15-49f2-94d5-6211c2676ee0"
      },
      "execution_count": null,
      "outputs": [
        {
          "output_type": "stream",
          "name": "stdout",
          "text": [
            "If the peron is having physical health and good food habits*( consider veggies or fruits),having diabetics 22\n"
          ]
        }
      ]
    },
    {
      "cell_type": "markdown",
      "source": [
        "The people who follow the good healthy habit,the number of people having diabetics is 22"
      ],
      "metadata": {
        "id": "c-xWQNAF8IF2"
      }
    },
    {
      "cell_type": "markdown",
      "source": [
        "4.If the peron is smoker ,What is the current status of person having diabetics ?"
      ],
      "metadata": {
        "id": "dgGkOBFrWtYu"
      }
    },
    {
      "cell_type": "code",
      "source": [
        "segmentedf1=dbf2[ (dbf2['Smoker']==1) & (dbf2['Diabetes_binary']==1) & (dbf2['HeartDiseaseorAttack']==1)]\n",
        "print(\"Number of people having diabetics if the person is smoker and heartdiease attack\",segmentedf1.size)"
      ],
      "metadata": {
        "colab": {
          "base_uri": "https://localhost:8080/"
        },
        "id": "BQKsrv2oSQru",
        "outputId": "9cd0acd6-9bd4-48dc-d9ea-8b452ed597ed"
      },
      "execution_count": null,
      "outputs": [
        {
          "output_type": "stream",
          "name": "stdout",
          "text": [
            "Number of people having diabetics if the person is smoker and heartdiease attack 108416\n"
          ]
        }
      ]
    },
    {
      "cell_type": "markdown",
      "source": [
        "From the result,we can understand that people who is smoker and having hearattack,and have higher chance to be diabetics."
      ],
      "metadata": {
        "id": "TPiHUkYSVE_C"
      }
    },
    {
      "cell_type": "code",
      "source": [
        "#the class and method is implemented here to display above result and it will not work properly.\n",
        "class Diabetics:\n",
        "    # class variables and methods go here\n",
        "    def __init__(self,segmentedf2):\n",
        "        self.segmentedf2 = segmentedf2\n",
        "    def method1():\n",
        "        # method code goes here\n",
        "\n",
        "        print(\"Number of people having diabetics if the person is smoker and heartdiease attack\",self.segmentedf2)\n",
        "        return self.segmentedf2\n",
        ""
      ],
      "metadata": {
        "id": "HCONaHrkXY__"
      },
      "execution_count": null,
      "outputs": []
    },
    {
      "cell_type": "markdown",
      "source": [
        "**Conclusion**"
      ],
      "metadata": {
        "id": "j9p3AiBOKmZC"
      }
    },
    {
      "cell_type": "markdown",
      "source": [
        "The data is collected from survey,When anlayse the age of people who have participated in the survey is mainly in the age between 50 and 80 or older.The number of female participant is more than number of male participants.\n",
        "**Future enhancement**\n",
        "Reduce the number of questions after analysing what are the factors affecting a person to be diabetics."
      ],
      "metadata": {
        "id": "ykWK743wKtDt"
      }
    },
    {
      "cell_type": "markdown",
      "source": [
        "**REFERENCES**\n",
        "1.https://www.kaggle.com/datasets/alexteboul/diabetes-health-indicators-dataset?select=diabetes_binary_5050split_health_indicators_BRFSS2015.csv"
      ],
      "metadata": {
        "id": "aeed7f4Q4k25"
      }
    }
  ]
}